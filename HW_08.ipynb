{
 "cells": [
  {
   "cell_type": "markdown",
   "metadata": {
    "id": "OvXQI_SDfKQ4"
   },
   "source": [
    "# Задание\n",
    "1. Обучить генератор создавать точки, которые будут лежать на графике функции \n",
    " $$y = \\frac{sin(x)}{x} - \\frac{x}{10}$$\n",
    "При выполнении данного задания структура GAN остается той же, но Вам нужно:\n",
    "- Сгенерировать настоящие данные\n",
    "- Изменить архитектуру дискриминатора и генератора\n",
    "- Построить графики"
   ]
  },
  {
   "cell_type": "code",
   "execution_count": 1,
   "metadata": {
    "id": "gwAm3G8JfSK1"
   },
   "outputs": [],
   "source": [
    "import numpy as np\n",
    "\n",
    "from torch.utils.data import DataLoader\n",
    "import torchvision.transforms as transforms\n",
    "from torchvision import datasets\n",
    "from torch.autograd import Variable\n",
    "\n",
    "import torch.nn as nn\n",
    "import torch\n",
    "\n",
    "import matplotlib.pyplot as plt\n",
    "from torchvision.utils import save_image, make_grid"
   ]
  },
  {
   "cell_type": "code",
   "execution_count": 2,
   "metadata": {
    "id": "81mN0WS3hN5w"
   },
   "outputs": [],
   "source": [
    "train_data_length = 1024\n",
    "train_data = torch.zeros((train_data_length, 2))\n",
    "train_data[:, 0] = torch.randn(train_data_length)\n",
    "train_data[:, 1] = (torch.sin(train_data[:, 0])/ (train_data[:, 0])) - ((train_data[:, 0])/10)\n"
   ]
  },
  {
   "cell_type": "code",
   "execution_count": 3,
   "metadata": {},
   "outputs": [
    {
     "data": {
      "text/plain": [
       "tensor([[-1.0363,  0.9340],\n",
       "        [ 0.5083,  0.9067],\n",
       "        [ 0.2041,  0.9727],\n",
       "        ...,\n",
       "        [-1.4364,  0.8336],\n",
       "        [ 0.8709,  0.7912],\n",
       "        [ 1.5702,  0.4798]])"
      ]
     },
     "execution_count": 3,
     "metadata": {},
     "output_type": "execute_result"
    }
   ],
   "source": [
    "train_data"
   ]
  },
  {
   "cell_type": "code",
   "execution_count": 4,
   "metadata": {},
   "outputs": [],
   "source": [
    "train_labels = torch.zeros(train_data_length)\n",
    "train_set = [\n",
    "    (train_data[i], train_labels[i]) for i in range(train_data_length)]"
   ]
  },
  {
   "cell_type": "code",
   "execution_count": 5,
   "metadata": {
    "colab": {
     "base_uri": "https://localhost:8080/",
     "height": 283
    },
    "id": "aKaE0qrZmRJe",
    "outputId": "a400b9ed-98c4-4211-856a-b8026bf7c253"
   },
   "outputs": [
    {
     "data": {
      "text/plain": [
       "[<matplotlib.lines.Line2D at 0x16aae7ca070>]"
      ]
     },
     "execution_count": 5,
     "metadata": {},
     "output_type": "execute_result"
    },
    {
     "data": {
      "image/png": "[encoded data removed]",
      "text/plain": [
       "<Figure size 432x288 with 1 Axes>"
      ]
     },
     "metadata": {
      "needs_background": "light"
     },
     "output_type": "display_data"
    }
   ],
   "source": [
    "\n",
    "plt.plot(train_data[:, 0], train_data[:, 1], \".\")"
   ]
  },
  {
   "cell_type": "code",
   "execution_count": 6,
   "metadata": {
    "id": "V0AmgK59mRGV"
   },
   "outputs": [],
   "source": [
    "batch_size = 32\n",
    "train_loader = torch.utils.data.DataLoader(\n",
    "    train_set, batch_size=batch_size, shuffle=True)"
   ]
  },
  {
   "cell_type": "markdown",
   "metadata": {
    "id": "Mjvdq798nMb4"
   },
   "source": [
    "### Класс дискриминатора"
   ]
  },
  {
   "cell_type": "code",
   "execution_count": 7,
   "metadata": {
    "id": "u0VtkONqmRDA"
   },
   "outputs": [],
   "source": [
    "class Discriminator(nn.Module):\n",
    "    def __init__(self):\n",
    "        super().__init__()\n",
    "        self.model = nn.Sequential(\n",
    "            nn.Linear(2, 256),\n",
    "            nn.ReLU(),\n",
    "            nn.Dropout(0.3),\n",
    "            nn.Linear(256, 128),\n",
    "            nn.ReLU(),\n",
    "            nn.Dropout(0.3),\n",
    "            nn.Linear(128, 64),\n",
    "            nn.ReLU(),\n",
    "            nn.Dropout(0.3),\n",
    "            nn.Linear(64, 1),\n",
    "            nn.Sigmoid())\n",
    "\n",
    "    def forward(self, x):\n",
    "        output = self.model(x)\n",
    "        return output"
   ]
  },
  {
   "cell_type": "markdown",
   "metadata": {
    "id": "Y9PqvN1knVNE"
   },
   "source": [
    "### Генератор"
   ]
  },
  {
   "cell_type": "code",
   "execution_count": 8,
   "metadata": {
    "id": "blnMf9jEfR_x"
   },
   "outputs": [],
   "source": [
    "class Generator(nn.Module):\n",
    "    def __init__(self):\n",
    "        super().__init__()\n",
    "        self.model = nn.Sequential(\n",
    "            nn.Linear(2, 16),\n",
    "            nn.ReLU(),\n",
    "            nn.Linear(16, 32),\n",
    "            nn.ReLU(),\n",
    "            nn.Linear(32, 2))\n",
    "\n",
    "    def forward(self, x):\n",
    "        output = self.model(x)\n",
    "        return output"
   ]
  },
  {
   "cell_type": "code",
   "execution_count": 9,
   "metadata": {
    "id": "iHXO9lsuo5Qc"
   },
   "outputs": [],
   "source": [
    "# Функция для вывода и сохранения изображения\n",
    "def sample_image(static_sample, save_img = False):\n",
    "    npimg = make_grid(static_sample.data[:25]).numpy()\n",
    "    fig, ax = plt.subplots(figsize=(7, 7))\n",
    "    ax.imshow(np.transpose(npimg, (1,2,0)), interpolation=\"nearest\")\n",
    "    if save_img:\n",
    "        save_image(gen_imgs.data[:25], f\"images/{batches_done}.png\", nrow=5, normalize=True)"
   ]
  },
  {
   "cell_type": "markdown",
   "metadata": {
    "id": "-fopVdOkgxTe"
   },
   "source": [
    "## Обучение"
   ]
  },
  {
   "cell_type": "code",
   "execution_count": 10,
   "metadata": {
    "id": "QD7s75-LgrRc"
   },
   "outputs": [],
   "source": [
    "lr = 0.001\n",
    "num_epochs = 300\n",
    "loss_function = torch.nn.BCELoss()"
   ]
  },
  {
   "cell_type": "code",
   "execution_count": 11,
   "metadata": {
    "id": "haq5d90wgrOk"
   },
   "outputs": [],
   "source": [
    "generator = Generator()\n",
    "discriminator = Discriminator()\n",
    "\n",
    "# Для каждой нейронки свой опитимизатор\n",
    "optimizer_discriminator = torch.optim.Adam(discriminator.parameters(), lr=lr)\n",
    "optimizer_generator = torch.optim.Adam(generator.parameters(), lr=lr)"
   ]
  },
  {
   "cell_type": "code",
   "execution_count": 12,
   "metadata": {
    "colab": {
     "base_uri": "https://localhost:8080/"
    },
    "id": "7RZUFUpIoLfc",
    "outputId": "0f9a8034-9da7-4955-aa47-84a782520316"
   },
   "outputs": [
    {
     "name": "stdout",
     "output_type": "stream",
     "text": [
      "Epoch: 0 Loss D.: 0.0465419664978981\n",
      "Epoch: 0 Loss G.: 3.3766403198242188\n",
      "Epoch: 10 Loss D.: 0.6095421314239502\n",
      "Epoch: 10 Loss G.: 0.9111297130584717\n",
      "Epoch: 20 Loss D.: 0.6854917407035828\n",
      "Epoch: 20 Loss G.: 0.7817936539649963\n",
      "Epoch: 30 Loss D.: 0.7078153491020203\n",
      "Epoch: 30 Loss G.: 0.7398874163627625\n",
      "Epoch: 40 Loss D.: 0.6915898323059082\n",
      "Epoch: 40 Loss G.: 0.6850014925003052\n",
      "Epoch: 50 Loss D.: 0.6973488330841064\n",
      "Epoch: 50 Loss G.: 0.7007993459701538\n",
      "Epoch: 60 Loss D.: 0.6928293704986572\n",
      "Epoch: 60 Loss G.: 0.6847332715988159\n",
      "Epoch: 70 Loss D.: 0.6910754442214966\n",
      "Epoch: 70 Loss G.: 0.7156433463096619\n",
      "Epoch: 80 Loss D.: 0.6863064169883728\n",
      "Epoch: 80 Loss G.: 0.6916754245758057\n",
      "Epoch: 90 Loss D.: 0.6934481263160706\n",
      "Epoch: 90 Loss G.: 0.6943314671516418\n",
      "Epoch: 100 Loss D.: 0.6930143237113953\n",
      "Epoch: 100 Loss G.: 0.6932869553565979\n",
      "Epoch: 110 Loss D.: 0.6963474154472351\n",
      "Epoch: 110 Loss G.: 0.7035662531852722\n",
      "Epoch: 120 Loss D.: 0.6961037516593933\n",
      "Epoch: 120 Loss G.: 0.6889955401420593\n",
      "Epoch: 130 Loss D.: 0.6919267773628235\n",
      "Epoch: 130 Loss G.: 0.6947292685508728\n",
      "Epoch: 140 Loss D.: 0.6975892782211304\n",
      "Epoch: 140 Loss G.: 0.6740604043006897\n",
      "Epoch: 150 Loss D.: 0.6908273100852966\n",
      "Epoch: 150 Loss G.: 0.7655787467956543\n",
      "Epoch: 160 Loss D.: 0.6871174573898315\n",
      "Epoch: 160 Loss G.: 0.685181736946106\n",
      "Epoch: 170 Loss D.: 0.6906044483184814\n",
      "Epoch: 170 Loss G.: 0.6913241744041443\n",
      "Epoch: 180 Loss D.: 0.6970114707946777\n",
      "Epoch: 180 Loss G.: 0.6865937113761902\n",
      "Epoch: 190 Loss D.: 0.6916993856430054\n",
      "Epoch: 190 Loss G.: 0.6902619004249573\n",
      "Epoch: 200 Loss D.: 0.6946579217910767\n",
      "Epoch: 200 Loss G.: 0.6818769574165344\n",
      "Epoch: 210 Loss D.: 0.6921631693840027\n",
      "Epoch: 210 Loss G.: 0.6887426376342773\n",
      "Epoch: 220 Loss D.: 0.6930114030838013\n",
      "Epoch: 220 Loss G.: 0.6936766505241394\n",
      "Epoch: 230 Loss D.: 0.6939343214035034\n",
      "Epoch: 230 Loss G.: 0.7158850431442261\n",
      "Epoch: 240 Loss D.: 0.6886675357818604\n",
      "Epoch: 240 Loss G.: 0.6533021926879883\n",
      "Epoch: 250 Loss D.: 0.7070549726486206\n",
      "Epoch: 250 Loss G.: 0.7824366092681885\n",
      "Epoch: 260 Loss D.: 0.602924108505249\n",
      "Epoch: 260 Loss G.: 1.0047837495803833\n",
      "Epoch: 270 Loss D.: 0.7069108486175537\n",
      "Epoch: 270 Loss G.: 0.7827762365341187\n",
      "Epoch: 280 Loss D.: 0.6941288709640503\n",
      "Epoch: 280 Loss G.: 0.7946277856826782\n",
      "Epoch: 290 Loss D.: 0.6977338194847107\n",
      "Epoch: 290 Loss G.: 1.0232408046722412\n"
     ]
    }
   ],
   "source": [
    "for epoch in range(num_epochs):\n",
    "    for n, (real_samples, _) in enumerate(train_loader):\n",
    "      \n",
    "        # Данные для обучения дискриминатора\n",
    "        real_samples_labels = torch.ones((batch_size, 1))\n",
    "        latent_space_samples = torch.randn((batch_size, 2))\n",
    "        generated_samples = generator(latent_space_samples)\n",
    "        generated_samples_labels = torch.zeros((batch_size, 1))\n",
    "        all_samples = torch.cat((real_samples, generated_samples))\n",
    "        all_samples_labels = torch.cat(\n",
    "            (real_samples_labels, generated_samples_labels))\n",
    "\n",
    "        # Обучение дискриминатора\n",
    "        discriminator.zero_grad()\n",
    "        output_discriminator = discriminator(all_samples)\n",
    "        loss_discriminator = loss_function(\n",
    "            output_discriminator, all_samples_labels)\n",
    "        loss_discriminator.backward()\n",
    "        optimizer_discriminator.step()\n",
    "\n",
    "        # Данные для обучения генератора\n",
    "        latent_space_samples = torch.randn((batch_size, 2))\n",
    "\n",
    "        # Обучение генератора\n",
    "        generator.zero_grad()\n",
    "        generated_samples = generator(latent_space_samples)\n",
    "        output_discriminator_generated = discriminator(generated_samples)\n",
    "        loss_generator = loss_function(\n",
    "            output_discriminator_generated, real_samples_labels)\n",
    "        loss_generator.backward()\n",
    "        optimizer_generator.step()\n",
    "\n",
    "        # Выводим значения функций потерь\n",
    "        if epoch % 10 == 0 and n == batch_size - 1:\n",
    "            print(f\"Epoch: {epoch} Loss D.: {loss_discriminator}\")\n",
    "            print(f\"Epoch: {epoch} Loss G.: {loss_generator}\") "
   ]
  },
  {
   "cell_type": "markdown",
   "metadata": {
    "id": "95Dy0IwKuWV7"
   },
   "source": [
    "## Проверка образцов, сгенерированных GAN"
   ]
  },
  {
   "cell_type": "code",
   "execution_count": 13,
   "metadata": {
    "id": "0hiU9-gXt4tt"
   },
   "outputs": [],
   "source": [
    "latent_space_samples = torch.randn(500, 2)\n",
    "generated_samples = generator(latent_space_samples)"
   ]
  },
  {
   "cell_type": "code",
   "execution_count": 14,
   "metadata": {
    "colab": {
     "base_uri": "https://localhost:8080/",
     "height": 283
    },
    "id": "F5CwwzL0t8RE",
    "outputId": "f9ed7cb1-d987-43b6-ef3b-1850d0472abc"
   },
   "outputs": [
    {
     "data": {
      "text/plain": [
       "[<matplotlib.lines.Line2D at 0x16ab08aceb0>]"
      ]
     },
     "execution_count": 14,
     "metadata": {},
     "output_type": "execute_result"
    },
    {
     "data": {
      "image/png": "[encoded data removed]",
      "text/plain": [
       "<Figure size 432x288 with 1 Axes>"
      ]
     },
     "metadata": {
      "needs_background": "light"
     },
     "output_type": "display_data"
    }
   ],
   "source": [
    "generated_samples = generated_samples.detach()\n",
    "plt.plot(generated_samples[:, 0], generated_samples[:, 1], \".\")"
   ]
  },
  {
   "cell_type": "code",
   "execution_count": null,
   "metadata": {},
   "outputs": [],
   "source": []
  }
 ],
 "metadata": {
  "accelerator": "GPU",
  "colab": {
   "provenance": []
  },
  "gpuClass": "standard",
  "kernelspec": {
   "display_name": "Python 3 (ipykernel)",
   "language": "python",
   "name": "python3"
  },
  "language_info": {
   "codemirror_mode": {
    "name": "ipython",
    "version": 3
   },
   "file_extension": ".py",
   "mimetype": "text/x-python",
   "name": "python",
   "nbconvert_exporter": "python",
   "pygments_lexer": "ipython3",
   "version": "3.9.13"
  }
 },
 "nbformat": 4,
 "nbformat_minor": 1
}
