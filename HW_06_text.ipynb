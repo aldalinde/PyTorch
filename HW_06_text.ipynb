{
 "cells": [
  {
   "cell_type": "markdown",
   "metadata": {
    "id": "9eHK0K1Lw6nb"
   },
   "source": [
    "## Sentiment Analysis\n",
    "\n"
   ]
  },
  {
   "cell_type": "code",
   "execution_count": 1,
   "metadata": {},
   "outputs": [],
   "source": [
    "import torch\n",
    "import torch.nn as nn\n",
    "import torch.nn.functional as F\n",
    "from torch.utils.data import DataLoader, Dataset"
   ]
  },
  {
   "cell_type": "code",
   "execution_count": 2,
   "metadata": {},
   "outputs": [],
   "source": [
    "import pandas as pd\n",
    "import numpy as np"
   ]
  },
  {
   "cell_type": "code",
   "execution_count": 3,
   "metadata": {
    "id": "zuPoTViZRHlM"
   },
   "outputs": [],
   "source": [
    "from string import punctuation\n",
    "from stop_words import get_stop_words\n",
    "from pymorphy2 import MorphAnalyzer\n",
    "import re"
   ]
  },
  {
   "cell_type": "code",
   "execution_count": 4,
   "metadata": {},
   "outputs": [],
   "source": [
    "import nltk\n",
    "from nltk.tokenize import word_tokenize\n",
    "from nltk.probability import FreqDist"
   ]
  },
  {
   "cell_type": "code",
   "execution_count": 5,
   "metadata": {},
   "outputs": [],
   "source": [
    "from sklearn.model_selection import train_test_split\n"
   ]
  },
  {
   "cell_type": "code",
   "execution_count": 6,
   "metadata": {
    "id": "2H5tFUEMCE7d"
   },
   "outputs": [],
   "source": [
    "max_words = 2000\n",
    "max_len = 20\n",
    "num_classes = 1\n",
    "\n",
    "# Training\n",
    "epochs = 5\n",
    "batch_size = 512\n",
    "print_batch_n = 100"
   ]
  },
  {
   "cell_type": "code",
   "execution_count": 7,
   "metadata": {
    "id": "LUCk-5M2yg3S"
   },
   "outputs": [],
   "source": [
    "df_train = pd.read_csv(\"text/train.csv\")\n",
    "df_val = pd.read_csv(\"text/test.csv\")"
   ]
  },
  {
   "cell_type": "code",
   "execution_count": 8,
   "metadata": {
    "colab": {
     "base_uri": "https://localhost:8080/",
     "height": 206
    },
    "id": "KBSf-OfDzWOI",
    "outputId": "f6d237d7-20a4-4918-b00f-a53f4de02f36"
   },
   "outputs": [
    {
     "data": {
      "text/html": [
       "<div>\n",
       "<style scoped>\n",
       "    .dataframe tbody tr th:only-of-type {\n",
       "        vertical-align: middle;\n",
       "    }\n",
       "\n",
       "    .dataframe tbody tr th {\n",
       "        vertical-align: top;\n",
       "    }\n",
       "\n",
       "    .dataframe thead th {\n",
       "        text-align: right;\n",
       "    }\n",
       "</style>\n",
       "<table border=\"1\" class=\"dataframe\">\n",
       "  <thead>\n",
       "    <tr style=\"text-align: right;\">\n",
       "      <th></th>\n",
       "      <th>id</th>\n",
       "      <th>label</th>\n",
       "      <th>tweet</th>\n",
       "    </tr>\n",
       "  </thead>\n",
       "  <tbody>\n",
       "    <tr>\n",
       "      <th>0</th>\n",
       "      <td>1</td>\n",
       "      <td>0</td>\n",
       "      <td>@user when a father is dysfunctional and is s...</td>\n",
       "    </tr>\n",
       "    <tr>\n",
       "      <th>1</th>\n",
       "      <td>2</td>\n",
       "      <td>0</td>\n",
       "      <td>@user @user thanks for #lyft credit i can't us...</td>\n",
       "    </tr>\n",
       "    <tr>\n",
       "      <th>2</th>\n",
       "      <td>3</td>\n",
       "      <td>0</td>\n",
       "      <td>bihday your majesty</td>\n",
       "    </tr>\n",
       "    <tr>\n",
       "      <th>3</th>\n",
       "      <td>4</td>\n",
       "      <td>0</td>\n",
       "      <td>#model   i love u take with u all the time in ...</td>\n",
       "    </tr>\n",
       "    <tr>\n",
       "      <th>4</th>\n",
       "      <td>5</td>\n",
       "      <td>0</td>\n",
       "      <td>factsguide: society now    #motivation</td>\n",
       "    </tr>\n",
       "  </tbody>\n",
       "</table>\n",
       "</div>"
      ],
      "text/plain": [
       "   id  label                                              tweet\n",
       "0   1      0   @user when a father is dysfunctional and is s...\n",
       "1   2      0  @user @user thanks for #lyft credit i can't us...\n",
       "2   3      0                                bihday your majesty\n",
       "3   4      0  #model   i love u take with u all the time in ...\n",
       "4   5      0             factsguide: society now    #motivation"
      ]
     },
     "execution_count": 8,
     "metadata": {},
     "output_type": "execute_result"
    }
   ],
   "source": [
    "df_train.head()"
   ]
  },
  {
   "cell_type": "markdown",
   "metadata": {
    "id": "CRaO-Ub5e8hx"
   },
   "source": [
    "0 - positive<br>\n",
    "1 - negative"
   ]
  },
  {
   "cell_type": "code",
   "execution_count": 9,
   "metadata": {
    "colab": {
     "base_uri": "https://localhost:8080/"
    },
    "id": "8lYmshAoT57x",
    "outputId": "1f7f299e-98f6-4086-8624-1dafd43d16b1"
   },
   "outputs": [
    {
     "data": {
      "text/plain": [
       "0    29720\n",
       "1     2242\n",
       "Name: label, dtype: int64"
      ]
     },
     "execution_count": 9,
     "metadata": {},
     "output_type": "execute_result"
    }
   ],
   "source": [
    "df_train['label'].value_counts()"
   ]
  },
  {
   "cell_type": "code",
   "execution_count": 10,
   "metadata": {
    "colab": {
     "base_uri": "https://localhost:8080/",
     "height": 206
    },
    "id": "_9l0iHhaI0O1",
    "outputId": "4437b31b-22cf-491f-a050-b965e96fee52"
   },
   "outputs": [
    {
     "data": {
      "text/html": [
       "<div>\n",
       "<style scoped>\n",
       "    .dataframe tbody tr th:only-of-type {\n",
       "        vertical-align: middle;\n",
       "    }\n",
       "\n",
       "    .dataframe tbody tr th {\n",
       "        vertical-align: top;\n",
       "    }\n",
       "\n",
       "    .dataframe thead th {\n",
       "        text-align: right;\n",
       "    }\n",
       "</style>\n",
       "<table border=\"1\" class=\"dataframe\">\n",
       "  <thead>\n",
       "    <tr style=\"text-align: right;\">\n",
       "      <th></th>\n",
       "      <th>id</th>\n",
       "      <th>tweet</th>\n",
       "    </tr>\n",
       "  </thead>\n",
       "  <tbody>\n",
       "    <tr>\n",
       "      <th>17192</th>\n",
       "      <td>49155</td>\n",
       "      <td>thought factory: left-right polarisation! #tru...</td>\n",
       "    </tr>\n",
       "    <tr>\n",
       "      <th>17193</th>\n",
       "      <td>49156</td>\n",
       "      <td>feeling like a mermaid ð #hairflip #neverre...</td>\n",
       "    </tr>\n",
       "    <tr>\n",
       "      <th>17194</th>\n",
       "      <td>49157</td>\n",
       "      <td>#hillary #campaigned today in #ohio((omg)) &amp;am...</td>\n",
       "    </tr>\n",
       "    <tr>\n",
       "      <th>17195</th>\n",
       "      <td>49158</td>\n",
       "      <td>happy, at work conference: right mindset leads...</td>\n",
       "    </tr>\n",
       "    <tr>\n",
       "      <th>17196</th>\n",
       "      <td>49159</td>\n",
       "      <td>my   song \"so glad\" free download!  #shoegaze ...</td>\n",
       "    </tr>\n",
       "  </tbody>\n",
       "</table>\n",
       "</div>"
      ],
      "text/plain": [
       "          id                                              tweet\n",
       "17192  49155  thought factory: left-right polarisation! #tru...\n",
       "17193  49156  feeling like a mermaid ð #hairflip #neverre...\n",
       "17194  49157  #hillary #campaigned today in #ohio((omg)) &am...\n",
       "17195  49158  happy, at work conference: right mindset leads...\n",
       "17196  49159  my   song \"so glad\" free download!  #shoegaze ..."
      ]
     },
     "execution_count": 10,
     "metadata": {},
     "output_type": "execute_result"
    }
   ],
   "source": [
    "df_val.tail()"
   ]
  },
  {
   "cell_type": "code",
   "execution_count": 11,
   "metadata": {},
   "outputs": [],
   "source": [
    "# test is without labels, so we'll split train to train and validation dataframes on label (label 1 is less than 10%)\n",
    "X_train, X_test = train_test_split(df_train,test_size=0.3, stratify=df_train[['label']])"
   ]
  },
  {
   "cell_type": "code",
   "execution_count": 12,
   "metadata": {},
   "outputs": [
    {
     "data": {
      "text/plain": [
       "0    8916\n",
       "1     673\n",
       "Name: label, dtype: int64"
      ]
     },
     "execution_count": 12,
     "metadata": {},
     "output_type": "execute_result"
    }
   ],
   "source": [
    "X_test['label'].value_counts()"
   ]
  },
  {
   "cell_type": "code",
   "execution_count": 13,
   "metadata": {},
   "outputs": [
    {
     "data": {
      "text/plain": [
       "0    20804\n",
       "1     1569\n",
       "Name: label, dtype: int64"
      ]
     },
     "execution_count": 13,
     "metadata": {},
     "output_type": "execute_result"
    }
   ],
   "source": [
    "X_train['label'].value_counts()"
   ]
  },
  {
   "cell_type": "markdown",
   "metadata": {
    "id": "qEyvOxoOJDTP"
   },
   "source": [
    "### Предобработка"
   ]
  },
  {
   "cell_type": "code",
   "execution_count": 14,
   "metadata": {
    "id": "MrICmUgeRHlO"
   },
   "outputs": [],
   "source": [
    "sw = set(get_stop_words(\"ru\"))\n",
    "# sw"
   ]
  },
  {
   "cell_type": "code",
   "execution_count": 15,
   "metadata": {
    "colab": {
     "base_uri": "https://localhost:8080/"
    },
    "id": "Kdmt_DVPjN4j",
    "outputId": "4620f938-24fd-4e28-be7a-b5ebc67dd537"
   },
   "outputs": [
    {
     "data": {
      "text/plain": [
       "{'!',\n",
       " '\"',\n",
       " '#',\n",
       " '$',\n",
       " '%',\n",
       " '&',\n",
       " \"'\",\n",
       " '(',\n",
       " ')',\n",
       " '*',\n",
       " '+',\n",
       " ',',\n",
       " '-',\n",
       " '.',\n",
       " '/',\n",
       " ':',\n",
       " ';',\n",
       " '<',\n",
       " '=',\n",
       " '>',\n",
       " '?',\n",
       " '@',\n",
       " '[',\n",
       " '\\\\',\n",
       " ']',\n",
       " '^',\n",
       " '_',\n",
       " '`',\n",
       " '{',\n",
       " '|',\n",
       " '}',\n",
       " '~'}"
      ]
     },
     "execution_count": 15,
     "metadata": {},
     "output_type": "execute_result"
    }
   ],
   "source": [
    "puncts = set(punctuation)\n",
    "puncts"
   ]
  },
  {
   "cell_type": "code",
   "execution_count": 16,
   "metadata": {
    "id": "A5aTsDZxjPym"
   },
   "outputs": [],
   "source": [
    "morpher = MorphAnalyzer()\n",
    "\n",
    "def preprocess_text(txt):\n",
    "    txt = str(txt)\n",
    "    txt = \"\".join(c for c in txt if c not in puncts)\n",
    "    txt = txt.lower()\n",
    "    txt = re.sub(\"не\\s\", \"не\", txt)\n",
    "    txt = [morpher.parse(word)[0].normal_form for word in txt.split() if (word not in sw) & (word.isalnum())]\n",
    "    # exclude all except letters and numbers\n",
    "   \n",
    "    return \" \".join(txt)"
   ]
  },
  {
   "cell_type": "code",
   "execution_count": 17,
   "metadata": {
    "colab": {
     "base_uri": "https://localhost:8080/"
    },
    "id": "6J4Ybdk-jC-n",
    "outputId": "680c7a0c-4804-4465-c2e7-2b2bbfb13777"
   },
   "outputs": [
    {
     "data": {
      "text/plain": [
       "array(['i am inventive. #i_am #positive #affirmation     '], dtype=object)"
      ]
     },
     "execution_count": 17,
     "metadata": {},
     "output_type": "execute_result"
    }
   ],
   "source": [
    "X_train['tweet'].iloc[:1].values"
   ]
  },
  {
   "cell_type": "code",
   "execution_count": 18,
   "metadata": {
    "colab": {
     "base_uri": "https://localhost:8080/"
    },
    "id": "UFDyfZLpi8BR",
    "outputId": "ef101574-91d6-4f5c-83e1-bcfe7651683d"
   },
   "outputs": [
    {
     "data": {
      "text/plain": [
       "array(['i am inventive iam positive affirmation'], dtype=object)"
      ]
     },
     "execution_count": 18,
     "metadata": {},
     "output_type": "execute_result"
    }
   ],
   "source": [
    "X_train['tweet'].iloc[:1].apply(preprocess_text).values"
   ]
  },
  {
   "cell_type": "code",
   "execution_count": 19,
   "metadata": {
    "colab": {
     "base_uri": "https://localhost:8080/"
    },
    "id": "iWrPbjNzi7pB",
    "outputId": "be3ded5b-7aca-4bb5-d7db-10fa837339cc"
   },
   "outputs": [
    {
     "name": "stderr",
     "output_type": "stream",
     "text": [
      "100%|█████████████████████████████████████████████████████████████████████████████████████████████████████████████████████████████████████████████████████████████████████| 22373/22373 [00:08<00:00, 2672.30it/s]\n",
      "100%|███████████████████████████████████████████████████████████████████████████████████████████████████████████████████████████████████████████████████████████████████████| 9589/9589 [00:03<00:00, 2654.43it/s]\n"
     ]
    }
   ],
   "source": [
    "from tqdm import tqdm \n",
    "tqdm.pandas()\n",
    "\n",
    "X_train['tweet'] = X_train['tweet'].progress_apply(preprocess_text)\n",
    "X_test['tweet'] = X_test['tweet'].progress_apply(preprocess_text)"
   ]
  },
  {
   "cell_type": "code",
   "execution_count": 20,
   "metadata": {
    "id": "C4o9QgmWI3Pw"
   },
   "outputs": [],
   "source": [
    "train_corpus = \" \".join(X_train['tweet'])\n",
    "train_corpus = train_corpus.lower()"
   ]
  },
  {
   "cell_type": "code",
   "execution_count": 21,
   "metadata": {
    "colab": {
     "base_uri": "https://localhost:8080/"
    },
    "id": "Hed2ySbwJH6B",
    "outputId": "270b8ebc-f38a-4d21-8e53-d74b26395c44"
   },
   "outputs": [],
   "source": [
    "tokens = word_tokenize(train_corpus)\n"
   ]
  },
  {
   "cell_type": "code",
   "execution_count": 22,
   "metadata": {},
   "outputs": [
    {
     "data": {
      "text/plain": [
       "['i',\n",
       " 'am',\n",
       " 'inventive',\n",
       " 'iam',\n",
       " 'positive',\n",
       " 'affirmation',\n",
       " 'i',\n",
       " 'am',\n",
       " 'thankful',\n",
       " 'for',\n",
       " 'holiday',\n",
       " 'sales',\n",
       " 'thankful',\n",
       " 'positive',\n",
       " 'user',\n",
       " 'we',\n",
       " 'welcome',\n",
       " 'user',\n",
       " 'to',\n",
       " 'southern']"
      ]
     },
     "execution_count": 22,
     "metadata": {},
     "output_type": "execute_result"
    }
   ],
   "source": [
    "tokens[:20]"
   ]
  },
  {
   "cell_type": "markdown",
   "metadata": {
    "id": "yJ8T0fwYJYJX"
   },
   "source": [
    "Cоберём в корпус N наиболее частых токенов"
   ]
  },
  {
   "cell_type": "code",
   "execution_count": 23,
   "metadata": {
    "colab": {
     "base_uri": "https://localhost:8080/"
    },
    "id": "8qCQH5nIJoiB",
    "outputId": "a10c74c5-e562-4a28-d2d2-259baa63222f"
   },
   "outputs": [
    {
     "data": {
      "text/plain": [
       "1999"
      ]
     },
     "execution_count": 23,
     "metadata": {},
     "output_type": "execute_result"
    }
   ],
   "source": [
    "dist = FreqDist(tokens)\n",
    "tokens_top = [pair[0] for pair in dist.most_common(max_words-1)]  # вычитание 1 для padding\n",
    "len(tokens_top)"
   ]
  },
  {
   "cell_type": "code",
   "execution_count": 24,
   "metadata": {
    "colab": {
     "base_uri": "https://localhost:8080/"
    },
    "id": "bRQ-6wwjJrGo",
    "outputId": "c857ae2e-9f99-4d9d-a0fe-74b59dcb1257"
   },
   "outputs": [
    {
     "data": {
      "text/plain": [
       "['user', 'the', 'to', 'a', 'i', 'you', 'and', 'in', 'for', 'of']"
      ]
     },
     "execution_count": 24,
     "metadata": {},
     "output_type": "execute_result"
    }
   ],
   "source": [
    "tokens_top[:10]"
   ]
  },
  {
   "cell_type": "code",
   "execution_count": 25,
   "metadata": {
    "colab": {
     "base_uri": "https://localhost:8080/"
    },
    "id": "Tdk777qGJtz4",
    "outputId": "c0e44a59-6bc2-4781-8d0c-a93f7396cc8c"
   },
   "outputs": [
    {
     "data": {
      "text/plain": [
       "{'user': 1,\n",
       " 'the': 2,\n",
       " 'to': 3,\n",
       " 'a': 4,\n",
       " 'i': 5,\n",
       " 'you': 6,\n",
       " 'and': 7,\n",
       " 'in': 8,\n",
       " 'for': 9,\n",
       " 'of': 10,\n",
       " 'is': 11,\n",
       " 'my': 12,\n",
       " 'on': 13,\n",
       " 'this': 14,\n",
       " 'love': 15,\n",
       " 'with': 16,\n",
       " 'it': 17,\n",
       " 'be': 18,\n",
       " 'day': 19,\n",
       " 'so': 20,\n",
       " 'all': 21,\n",
       " 'that': 22,\n",
       " 'are': 23,\n",
       " 'me': 24,\n",
       " 'your': 25,\n",
       " 'happy': 26,\n",
       " 'at': 27,\n",
       " 'have': 28,\n",
       " 'amp': 29,\n",
       " 'just': 30,\n",
       " 'not': 31,\n",
       " 'its': 32,\n",
       " 'will': 33,\n",
       " 'we': 34,\n",
       " 'when': 35,\n",
       " 'do': 36,\n",
       " 'im': 37,\n",
       " 'am': 38,\n",
       " 'time': 39,\n",
       " 'u': 40,\n",
       " 'life': 41,\n",
       " 'from': 42,\n",
       " 'but': 43,\n",
       " 'what': 44,\n",
       " 'new': 45,\n",
       " 'like': 46,\n",
       " 'up': 47,\n",
       " 'today': 48,\n",
       " 'now': 49,\n",
       " 'out': 50,\n",
       " 'as': 51,\n",
       " 'get': 52,\n",
       " 'positive': 53,\n",
       " 'was': 54,\n",
       " 'our': 55,\n",
       " 'about': 56,\n",
       " 'thankful': 57,\n",
       " 'bihday': 58,\n",
       " 'how': 59,\n",
       " 'people': 60,\n",
       " 'by': 61,\n",
       " 'good': 62,\n",
       " 'cant': 63,\n",
       " 'can': 64,\n",
       " 'no': 65,\n",
       " 'one': 66,\n",
       " 'see': 67,\n",
       " 'fathers': 68,\n",
       " 'more': 69,\n",
       " 'they': 70,\n",
       " 'smile': 71,\n",
       " 'go': 72,\n",
       " 'dont': 73,\n",
       " 'if': 74,\n",
       " 'want': 75,\n",
       " 'who': 76,\n",
       " 'take': 77,\n",
       " 'work': 78,\n",
       " 'got': 79,\n",
       " 'has': 80,\n",
       " 'healthy': 81,\n",
       " 'weekend': 82,\n",
       " 'an': 83,\n",
       " 'or': 84,\n",
       " 'fun': 85,\n",
       " 'make': 86,\n",
       " 'summer': 87,\n",
       " 'friday': 88,\n",
       " 'days': 89,\n",
       " 'best': 90,\n",
       " 'great': 91,\n",
       " 'us': 92,\n",
       " 'his': 93,\n",
       " 'bull': 94,\n",
       " 'he': 95,\n",
       " 'beautiful': 96,\n",
       " '2': 97,\n",
       " 'need': 98,\n",
       " 'going': 99,\n",
       " 'why': 100,\n",
       " 'only': 101,\n",
       " 'friends': 102,\n",
       " 'really': 103,\n",
       " 'way': 104,\n",
       " 'first': 105,\n",
       " 'wait': 106,\n",
       " 'family': 107,\n",
       " 'there': 108,\n",
       " 'their': 109,\n",
       " 'music': 110,\n",
       " 'morning': 111,\n",
       " 'here': 112,\n",
       " 'tomorrow': 113,\n",
       " 'fathersday': 114,\n",
       " 'been': 115,\n",
       " 'back': 116,\n",
       " 'world': 117,\n",
       " 'some': 118,\n",
       " 'know': 119,\n",
       " 'week': 120,\n",
       " 'very': 121,\n",
       " 'cute': 122,\n",
       " 'orlando': 123,\n",
       " 'being': 124,\n",
       " 'happiness': 125,\n",
       " 'too': 126,\n",
       " 'never': 127,\n",
       " 'feel': 128,\n",
       " 'sad': 129,\n",
       " 'her': 130,\n",
       " 'think': 131,\n",
       " 'after': 132,\n",
       " 'off': 133,\n",
       " 'home': 134,\n",
       " 'well': 135,\n",
       " 'were': 136,\n",
       " 'model': 137,\n",
       " 'trump': 138,\n",
       " 'night': 139,\n",
       " 'sunday': 140,\n",
       " 'always': 141,\n",
       " 'right': 142,\n",
       " 'blog': 143,\n",
       " 'much': 144,\n",
       " 'had': 145,\n",
       " 'finally': 146,\n",
       " 'affirmation': 147,\n",
       " 'last': 148,\n",
       " 'girl': 149,\n",
       " 'live': 150,\n",
       " 'these': 151,\n",
       " 'next': 152,\n",
       " 'even': 153,\n",
       " 'because': 154,\n",
       " 'youre': 155,\n",
       " 'come': 156,\n",
       " 'them': 157,\n",
       " 'than': 158,\n",
       " 'still': 159,\n",
       " 'over': 160,\n",
       " 'amazing': 161,\n",
       " 'thanks': 162,\n",
       " 'things': 163,\n",
       " 'makes': 164,\n",
       " 'year': 165,\n",
       " 'thank': 166,\n",
       " 'many': 167,\n",
       " 'look': 168,\n",
       " 'ready': 169,\n",
       " 'tonight': 170,\n",
       " 'iam': 171,\n",
       " 'gold': 172,\n",
       " 'altwaystoheal': 173,\n",
       " 'follow': 174,\n",
       " 'na': 175,\n",
       " 'selfie': 176,\n",
       " 'looking': 177,\n",
       " '1': 178,\n",
       " 'find': 179,\n",
       " 'dad': 180,\n",
       " 'little': 181,\n",
       " 'free': 182,\n",
       " 'silver': 183,\n",
       " 'via': 184,\n",
       " '4': 185,\n",
       " 'everyone': 186,\n",
       " 'then': 187,\n",
       " 'show': 188,\n",
       " 'pay': 189,\n",
       " 'another': 190,\n",
       " 'again': 191,\n",
       " 'man': 192,\n",
       " 'she': 193,\n",
       " 'ever': 194,\n",
       " 'watch': 195,\n",
       " 'most': 196,\n",
       " 'getting': 197,\n",
       " 'old': 198,\n",
       " 'black': 199,\n",
       " 'him': 200,\n",
       " 'game': 201,\n",
       " 'should': 202,\n",
       " 'feeling': 203,\n",
       " 'stop': 204,\n",
       " 'made': 205,\n",
       " 'forex': 206,\n",
       " 'hope': 207,\n",
       " 'climb': 208,\n",
       " 'blessed': 209,\n",
       " 'would': 210,\n",
       " 'enjoy': 211,\n",
       " 'peace': 212,\n",
       " 'news': 213,\n",
       " 'whatever': 214,\n",
       " 'thats': 215,\n",
       " 'sta': 216,\n",
       " 'before': 217,\n",
       " 'down': 218,\n",
       " 'bear': 219,\n",
       " 'god': 220,\n",
       " 'say': 221,\n",
       " '3': 222,\n",
       " 'every': 223,\n",
       " 'hate': 224,\n",
       " 'friend': 225,\n",
       " 'girls': 226,\n",
       " 'city': 227,\n",
       " '2016': 228,\n",
       " 'help': 229,\n",
       " 'food': 230,\n",
       " 'ive': 231,\n",
       " 'years': 232,\n",
       " 'may': 233,\n",
       " 'saturday': 234,\n",
       " 'instagood': 235,\n",
       " 'dog': 236,\n",
       " 'excited': 237,\n",
       " 'someone': 238,\n",
       " 'polar': 239,\n",
       " 'any': 240,\n",
       " 'coming': 241,\n",
       " 'might': 242,\n",
       " 'keep': 243,\n",
       " 'funny': 244,\n",
       " 'where': 245,\n",
       " 'baby': 246,\n",
       " 'until': 247,\n",
       " 'angry': 248,\n",
       " 'into': 249,\n",
       " 'sun': 250,\n",
       " 'white': 251,\n",
       " 'yes': 252,\n",
       " 'father': 253,\n",
       " 'let': 254,\n",
       " 'healing': 255,\n",
       " 'did': 256,\n",
       " 'nothing': 257,\n",
       " 'long': 258,\n",
       " 'around': 259,\n",
       " 'having': 260,\n",
       " 'big': 261,\n",
       " 'kids': 262,\n",
       " 'guys': 263,\n",
       " 'lol': 264,\n",
       " 'other': 265,\n",
       " 'wedding': 266,\n",
       " 'nice': 267,\n",
       " 'such': 268,\n",
       " 'believe': 269,\n",
       " 'school': 270,\n",
       " 'awesome': 271,\n",
       " 'video': 272,\n",
       " 'watching': 273,\n",
       " 'please': 274,\n",
       " 'found': 275,\n",
       " 'cool': 276,\n",
       " 'better': 277,\n",
       " 'soon': 278,\n",
       " 'direct': 279,\n",
       " 'two': 280,\n",
       " 'grateful': 281,\n",
       " 'beach': 282,\n",
       " 'dominate': 283,\n",
       " 'monday': 284,\n",
       " 'proud': 285,\n",
       " 'forward': 286,\n",
       " 'quote': 287,\n",
       " 'true': 288,\n",
       " 'play': 289,\n",
       " 'lost': 290,\n",
       " 'thing': 291,\n",
       " 'weeks': 292,\n",
       " 'travel': 293,\n",
       " 'something': 294,\n",
       " 'holiday': 295,\n",
       " 'america': 296,\n",
       " 'waiting': 297,\n",
       " 'own': 298,\n",
       " 'n': 299,\n",
       " 'didnt': 300,\n",
       " 'team': 301,\n",
       " 'hot': 302,\n",
       " 'done': 303,\n",
       " 'hea': 304,\n",
       " 'check': 305,\n",
       " 'change': 306,\n",
       " 'motivation': 307,\n",
       " 'end': 308,\n",
       " 'away': 309,\n",
       " 'strong': 310,\n",
       " 'bing': 311,\n",
       " 'real': 312,\n",
       " 'bong': 313,\n",
       " 'face': 314,\n",
       " 'attack': 315,\n",
       " 'without': 316,\n",
       " 'rip': 317,\n",
       " 'followme': 318,\n",
       " 'women': 319,\n",
       " 'racing': 320,\n",
       " 'buffalo': 321,\n",
       " 'give': 322,\n",
       " 'playing': 323,\n",
       " 'bad': 324,\n",
       " 'those': 325,\n",
       " 'hard': 326,\n",
       " 'photooftheday': 327,\n",
       " '5': 328,\n",
       " 'lovely': 329,\n",
       " 'miss': 330,\n",
       " 'joy': 331,\n",
       " 'hair': 332,\n",
       " 'fashion': 333,\n",
       " 'libtard': 334,\n",
       " 'wish': 335,\n",
       " 'sex': 336,\n",
       " 'yeah': 337,\n",
       " 'doing': 338,\n",
       " 'place': 339,\n",
       " 'could': 340,\n",
       " 'making': 341,\n",
       " 'gon': 342,\n",
       " 'ill': 343,\n",
       " 'r': 344,\n",
       " 'leave': 345,\n",
       " 'person': 346,\n",
       " 'yet': 347,\n",
       " 'looks': 348,\n",
       " 'does': 349,\n",
       " 'win': 350,\n",
       " 'lot': 351,\n",
       " 'left': 352,\n",
       " 'sexy': 353,\n",
       " 'racist': 354,\n",
       " 'listen': 355,\n",
       " 'oh': 356,\n",
       " 'woman': 357,\n",
       " 'living': 358,\n",
       " 'dads': 359,\n",
       " 'mindset': 360,\n",
       " 'london': 361,\n",
       " 'money': 362,\n",
       " 'yourself': 363,\n",
       " 'already': 364,\n",
       " 'book': 365,\n",
       " 'twitter': 366,\n",
       " 'sleep': 367,\n",
       " 'same': 368,\n",
       " 'd': 369,\n",
       " 'job': 370,\n",
       " 'success': 371,\n",
       " 'working': 372,\n",
       " 'wont': 373,\n",
       " 'euro2016': 374,\n",
       " 'few': 375,\n",
       " 'shooting': 376,\n",
       " 'says': 377,\n",
       " 'boy': 378,\n",
       " 'wow': 379,\n",
       " 'house': 380,\n",
       " 'read': 381,\n",
       " 'tweets': 382,\n",
       " 'everything': 383,\n",
       " 'against': 384,\n",
       " 'full': 385,\n",
       " 'said': 386,\n",
       " 'young': 387,\n",
       " '10': 388,\n",
       " 'politics': 389,\n",
       " 'omg': 390,\n",
       " 'ur': 391,\n",
       " 'try': 392,\n",
       " 'moment': 393,\n",
       " 'gay': 394,\n",
       " 'pretty': 395,\n",
       " 'w': 396,\n",
       " 'tbt': 397,\n",
       " 'stay': 398,\n",
       " 'obama': 399,\n",
       " 'health': 400,\n",
       " 'also': 401,\n",
       " 'quotes': 402,\n",
       " 'poetry': 403,\n",
       " 'pa': 404,\n",
       " 'must': 405,\n",
       " 'doesnt': 406,\n",
       " 'thursday': 407,\n",
       " 'beauty': 408,\n",
       " 'whats': 409,\n",
       " 'truth': 410,\n",
       " 'isnt': 411,\n",
       " 'mom': 412,\n",
       " 'head': 413,\n",
       " 'depression': 414,\n",
       " 'photo': 415,\n",
       " 's': 416,\n",
       " 'guy': 417,\n",
       " 'open': 418,\n",
       " 'simulation': 419,\n",
       " 'loved': 420,\n",
       " 'thought': 421,\n",
       " 'porn': 422,\n",
       " 'couple': 423,\n",
       " 'retweet': 424,\n",
       " 'month': 425,\n",
       " 'song': 426,\n",
       " 'gorilla': 427,\n",
       " 'while': 428,\n",
       " 'mind': 429,\n",
       " 'call': 430,\n",
       " 'x': 431,\n",
       " 'hours': 432,\n",
       " 'perfect': 433,\n",
       " 'tear': 434,\n",
       " 'lt3': 435,\n",
       " 'times': 436,\n",
       " 'rest': 437,\n",
       " 'super': 438,\n",
       " 'buy': 439,\n",
       " 'each': 440,\n",
       " 'which': 441,\n",
       " 'conference': 442,\n",
       " 'inspiration': 443,\n",
       " 'since': 444,\n",
       " 'post': 445,\n",
       " 'lets': 446,\n",
       " 'dream': 447,\n",
       " 'run': 448,\n",
       " 'cold': 449,\n",
       " 'enough': 450,\n",
       " 'body': 451,\n",
       " 'environment': 452,\n",
       " 'season': 453,\n",
       " 'through': 454,\n",
       " 'share': 455,\n",
       " 'tell': 456,\n",
       " 'hey': 457,\n",
       " 'till': 458,\n",
       " 'fuck': 459,\n",
       " 'nude': 460,\n",
       " 'wonderful': 461,\n",
       " 'june': 462,\n",
       " 'use': 463,\n",
       " 'hes': 464,\n",
       " 'hour': 465,\n",
       " 'shit': 466,\n",
       " 'children': 467,\n",
       " 'yay': 468,\n",
       " 'flowers': 469,\n",
       " 'cat': 470,\n",
       " 'both': 471,\n",
       " 'dance': 472,\n",
       " 'simulator': 473,\n",
       " 'adapt': 474,\n",
       " 'words': 475,\n",
       " 'anything': 476,\n",
       " 'seeing': 477,\n",
       " 'wednesday': 478,\n",
       " 'meet': 479,\n",
       " 'ppl': 480,\n",
       " 'myself': 481,\n",
       " 'hear': 482,\n",
       " 'business': 483,\n",
       " 'shop': 484,\n",
       " 'far': 485,\n",
       " 'others': 486,\n",
       " 'allahsoil': 487,\n",
       " 'smiles': 488,\n",
       " 'coffee': 489,\n",
       " 'usa': 490,\n",
       " 'relax': 491,\n",
       " 'fitness': 492,\n",
       " 'story': 493,\n",
       " 'put': 494,\n",
       " 'gone': 495,\n",
       " 'tweet': 496,\n",
       " 'kind': 497,\n",
       " 'trip': 498,\n",
       " 'thoughts': 499,\n",
       " 'crazy': 500,\n",
       " 'alone': 501,\n",
       " '7': 502,\n",
       " 'came': 503,\n",
       " 'loving': 504,\n",
       " 'join': 505,\n",
       " 'media': 506,\n",
       " 'remember': 507,\n",
       " 'mood': 508,\n",
       " 'liberal': 509,\n",
       " 'tgif': 510,\n",
       " 'country': 511,\n",
       " 'care': 512,\n",
       " 'together': 513,\n",
       " 'lives': 514,\n",
       " 'comes': 515,\n",
       " 'fans': 516,\n",
       " 'dead': 517,\n",
       " 'goodmorning': 518,\n",
       " 'tickets': 519,\n",
       " 'talk': 520,\n",
       " 'son': 521,\n",
       " 'power': 522,\n",
       " 'race': 523,\n",
       " 'empty': 524,\n",
       " 'months': 525,\n",
       " 'single': 526,\n",
       " 'celebrate': 527,\n",
       " 'sunshine': 528,\n",
       " 'movie': 529,\n",
       " 'trying': 530,\n",
       " 'men': 531,\n",
       " 'sweet': 532,\n",
       " 'high': 533,\n",
       " 'gym': 534,\n",
       " 'sorry': 535,\n",
       " 'social': 536,\n",
       " 'bed': 537,\n",
       " 'delete': 538,\n",
       " 'running': 539,\n",
       " 'lgbt': 540,\n",
       " 'goes': 541,\n",
       " 'daily': 542,\n",
       " 'instagram': 543,\n",
       " 'aww': 544,\n",
       " 'yesterday': 545,\n",
       " 'fact': 546,\n",
       " 'else': 547,\n",
       " 'places': 548,\n",
       " 'needs': 549,\n",
       " 'car': 550,\n",
       " 'lunch': 551,\n",
       " 'anxiety': 552,\n",
       " 'blue': 553,\n",
       " 'saw': 554,\n",
       " 'gift': 555,\n",
       " 'order': 556,\n",
       " 'tired': 557,\n",
       " 'photography': 558,\n",
       " 'lifestyle': 559,\n",
       " 'sure': 560,\n",
       " 'sick': 561,\n",
       " 'toptags': 562,\n",
       " 'victims': 563,\n",
       " 'daddy': 564,\n",
       " 'went': 565,\n",
       " 'happened': 566,\n",
       " 'prayfororlando': 567,\n",
       " 'visit': 568,\n",
       " 'point': 569,\n",
       " 'anyone': 570,\n",
       " 'useful': 571,\n",
       " 'birds': 572,\n",
       " 'nature': 573,\n",
       " 'latest': 574,\n",
       " 'actually': 575,\n",
       " 'tuesday': 576,\n",
       " 'football': 577,\n",
       " 'wrong': 578,\n",
       " 'vacation': 579,\n",
       " 'child': 580,\n",
       " 'followers': 581,\n",
       " 'forever': 582,\n",
       " 'anymore': 583,\n",
       " 'uk': 584,\n",
       " 'hardcore': 585,\n",
       " 'update': 586,\n",
       " 'laugh': 587,\n",
       " 'vine': 588,\n",
       " 'brexit': 589,\n",
       " '1st': 590,\n",
       " 'though': 591,\n",
       " 'matter': 592,\n",
       " 'hello': 593,\n",
       " 'comments': 594,\n",
       " '6': 595,\n",
       " 'cry': 596,\n",
       " 'deletetweets': 597,\n",
       " 'ago': 598,\n",
       " 'almost': 599,\n",
       " 'impoant': 600,\n",
       " 'wishing': 601,\n",
       " 'word': 602,\n",
       " 'vs': 603,\n",
       " 'early': 604,\n",
       " 'staing': 605,\n",
       " 'complete': 606,\n",
       " 'cause': 607,\n",
       " 'homes': 608,\n",
       " 'side': 609,\n",
       " 'y': 610,\n",
       " 'yall': 611,\n",
       " 'evening': 612,\n",
       " 'nervous': 613,\n",
       " 'hu': 614,\n",
       " 'racism': 615,\n",
       " 'tv': 616,\n",
       " 'later': 617,\n",
       " 'special': 618,\n",
       " 'less': 619,\n",
       " 'sometimes': 620,\n",
       " 'able': 621,\n",
       " 'smiling': 622,\n",
       " 'death': 623,\n",
       " 'ramadan': 624,\n",
       " 'suppo': 625,\n",
       " 'pic': 626,\n",
       " '20': 627,\n",
       " 'fan': 628,\n",
       " 'gun': 629,\n",
       " 'favorite': 630,\n",
       " 'damn': 631,\n",
       " 'guess': 632,\n",
       " 'depressed': 633,\n",
       " 'lucky': 634,\n",
       " 'arrived': 635,\n",
       " 'history': 636,\n",
       " 'picoftheday': 637,\n",
       " 'stas': 638,\n",
       " 'education': 639,\n",
       " 'gets': 640,\n",
       " 'havent': 641,\n",
       " 'ok': 642,\n",
       " 'future': 643,\n",
       " 'prayers': 644,\n",
       " 'everyday': 645,\n",
       " 'date': 646,\n",
       " 'theres': 647,\n",
       " 'style': 648,\n",
       " 'sjw': 649,\n",
       " 'close': 650,\n",
       " 'sunny': 651,\n",
       " 'booked': 652,\n",
       " 'whole': 653,\n",
       " 'target': 654,\n",
       " 'red': 655,\n",
       " 'choose': 656,\n",
       " 'walk': 657,\n",
       " 'once': 658,\n",
       " 'fucking': 659,\n",
       " 'todays': 660,\n",
       " 'kill': 661,\n",
       " 'under': 662,\n",
       " 'rain': 663,\n",
       " 'freedom': 664,\n",
       " 'gt': 665,\n",
       " 'ass': 666,\n",
       " 'families': 667,\n",
       " 'park': 668,\n",
       " 'flag': 669,\n",
       " 'wan': 670,\n",
       " 'conce': 671,\n",
       " 'affirmations': 672,\n",
       " 'become': 673,\n",
       " 'xxx': 674,\n",
       " 'late': 675,\n",
       " 'leads': 676,\n",
       " 'control': 677,\n",
       " 'youtube': 678,\n",
       " 'daughter': 679,\n",
       " 'disney': 680,\n",
       " 'dinner': 681,\n",
       " 'heard': 682,\n",
       " 'reached': 683,\n",
       " 'event': 684,\n",
       " 'reason': 685,\n",
       " 'mad': 686,\n",
       " 'snapchat': 687,\n",
       " 'blonde': 688,\n",
       " '12': 689,\n",
       " 'anniversary': 690,\n",
       " 'pray': 691,\n",
       " 'save': 692,\n",
       " 'boyfriend': 693,\n",
       " 'bit': 694,\n",
       " 'lover': 695,\n",
       " 'safe': 696,\n",
       " 'boys': 697,\n",
       " 'guns': 698,\n",
       " 'vicinity': 699,\n",
       " 'act': 700,\n",
       " 'seen': 701,\n",
       " 'fridayfeeling': 702,\n",
       " 'makeup': 703,\n",
       " 'killed': 704,\n",
       " 'forget': 705,\n",
       " 'easy': 706,\n",
       " 'broken': 707,\n",
       " 'survive': 708,\n",
       " 'animals': 709,\n",
       " 'leadership': 710,\n",
       " 'thinking': 711,\n",
       " 'dear': 712,\n",
       " 'bday': 713,\n",
       " 'episode': 714,\n",
       " 'garden': 715,\n",
       " 'saying': 716,\n",
       " 'cake': 717,\n",
       " 'florida': 718,\n",
       " 'parents': 719,\n",
       " 'photos': 720,\n",
       " 'b': 721,\n",
       " 'list': 722,\n",
       " 'hill': 723,\n",
       " 'reach': 724,\n",
       " 'break': 725,\n",
       " 'despite': 726,\n",
       " 'missing': 727,\n",
       " 'reading': 728,\n",
       " 'shopping': 729,\n",
       " 'heres': 730,\n",
       " 'taking': 731,\n",
       " 'training': 732,\n",
       " 'used': 733,\n",
       " 'england': 734,\n",
       " 'memories': 735,\n",
       " 'theyre': 736,\n",
       " 'mountains': 737,\n",
       " 'july': 738,\n",
       " 'maybe': 739,\n",
       " 'police': 740,\n",
       " 'set': 741,\n",
       " 'eat': 742,\n",
       " 'fresh': 743,\n",
       " '50': 744,\n",
       " 'welcome': 745,\n",
       " 'yo': 746,\n",
       " 'wishes': 747,\n",
       " 'app': 748,\n",
       " 'thankyou': 749,\n",
       " 'understand': 750,\n",
       " 'final': 751,\n",
       " 'officially': 752,\n",
       " 'cultureofdevelopment': 753,\n",
       " 'organizations': 754,\n",
       " 'during': 755,\n",
       " 'president': 756,\n",
       " 'bring': 757,\n",
       " 'kid': 758,\n",
       " 'green': 759,\n",
       " 'picture': 760,\n",
       " 'wanted': 761,\n",
       " 'water': 762,\n",
       " 'eyes': 763,\n",
       " '30': 764,\n",
       " 'club': 765,\n",
       " 'hell': 766,\n",
       " 'voice': 767,\n",
       " 'vote': 768,\n",
       " 'bought': 769,\n",
       " 'rather': 770,\n",
       " 'brother': 771,\n",
       " 'crying': 772,\n",
       " 'slut': 773,\n",
       " 'worst': 774,\n",
       " 'feels': 775,\n",
       " 'meeting': 776,\n",
       " 'shows': 777,\n",
       " 'couldnt': 778,\n",
       " 'past': 779,\n",
       " 'pathetic': 780,\n",
       " 'using': 781,\n",
       " 'smh': 782,\n",
       " 'least': 783,\n",
       " 'film': 784,\n",
       " 'design': 785,\n",
       " 'youve': 786,\n",
       " 'finished': 787,\n",
       " 'nasty': 788,\n",
       " 'horny': 789,\n",
       " 'tragic': 790,\n",
       " 'drink': 791,\n",
       " 'present': 792,\n",
       " 'chill': 793,\n",
       " 'send': 794,\n",
       " 'bless': 795,\n",
       " '8': 796,\n",
       " 'won': 797,\n",
       " 'learn': 798,\n",
       " 'ta': 799,\n",
       " 'state': 800,\n",
       " 'fear': 801,\n",
       " 'happen': 802,\n",
       " 'called': 803,\n",
       " 'enjoying': 804,\n",
       " 'goals': 805,\n",
       " '2nd': 806,\n",
       " 'yoga': 807,\n",
       " 'gbp': 808,\n",
       " 'dogs': 809,\n",
       " 'afternoon': 810,\n",
       " 'local': 811,\n",
       " 'phone': 812,\n",
       " 'mean': 813,\n",
       " 'naughty': 814,\n",
       " 'wet': 815,\n",
       " 'finding': 816,\n",
       " 'stomping': 817,\n",
       " 'sister': 818,\n",
       " 'name': 819,\n",
       " 'respect': 820,\n",
       " 'udtapunjab': 821,\n",
       " 'problem': 822,\n",
       " 'color': 823,\n",
       " 'happier': 824,\n",
       " 'service': 825,\n",
       " 'small': 826,\n",
       " 'stuff': 827,\n",
       " 'happening': 828,\n",
       " 'seems': 829,\n",
       " 'truly': 830,\n",
       " 'shes': 831,\n",
       " '9': 832,\n",
       " 'dark': 833,\n",
       " 'ones': 834,\n",
       " 'americans': 835,\n",
       " 'wants': 836,\n",
       " 'breakfast': 837,\n",
       " 'mine': 838,\n",
       " 'la': 839,\n",
       " 'course': 840,\n",
       " 'lighttherapy': 841,\n",
       " 'task': 842,\n",
       " 'half': 843,\n",
       " 'stupid': 844,\n",
       " 'heal': 845,\n",
       " 'view': 846,\n",
       " 'chase': 847,\n",
       " 'source': 848,\n",
       " 'move': 849,\n",
       " 'talking': 850,\n",
       " 'ask': 851,\n",
       " '3d': 852,\n",
       " 'cantwait': 853,\n",
       " 'wife': 854,\n",
       " 'hit': 855,\n",
       " 'tragedy': 856,\n",
       " 'oitnb': 857,\n",
       " 'nbafinals': 858,\n",
       " 'kinky': 859,\n",
       " 'mass': 860,\n",
       " 'glad': 861,\n",
       " 'workout': 862,\n",
       " 'gop': 863,\n",
       " 'lonely': 864,\n",
       " 'community': 865,\n",
       " 'rock': 866,\n",
       " 'feelings': 867,\n",
       " 'gave': 868,\n",
       " 'online': 869,\n",
       " 'office': 870,\n",
       " '2017': 871,\n",
       " 'agree': 872,\n",
       " 'different': 873,\n",
       " 'games': 874,\n",
       " 'shy': 875,\n",
       " 'bc': 876,\n",
       " 'wine': 877,\n",
       " 'heabroken': 878,\n",
       " 'means': 879,\n",
       " 'human': 880,\n",
       " 'minutes': 881,\n",
       " 'nba': 882,\n",
       " 'violence': 883,\n",
       " 'content': 884,\n",
       " 'videos': 885,\n",
       " 'woh': 886,\n",
       " 'simple': 887,\n",
       " '15': 888,\n",
       " 'ahead': 889,\n",
       " 'rooster': 890,\n",
       " 'vast': 891,\n",
       " 'scared': 892,\n",
       " 'wtf': 893,\n",
       " '100': 894,\n",
       " 'mother': 895,\n",
       " 'leaving': 896,\n",
       " 'exciting': 897,\n",
       " 'top': 898,\n",
       " 'spend': 899,\n",
       " 'disappointed': 900,\n",
       " 'festival': 901,\n",
       " 'treat': 902,\n",
       " 'instead': 903,\n",
       " 'group': 904,\n",
       " 'gorgeous': 905,\n",
       " 'hillary': 906,\n",
       " 'soul': 907,\n",
       " 'lady': 908,\n",
       " 'staed': 909,\n",
       " 'orlandoshooting': 910,\n",
       " 'suppoers': 911,\n",
       " 'facebook': 912,\n",
       " 'expanse': 913,\n",
       " 'college': 914,\n",
       " 'light': 915,\n",
       " 'teen': 916,\n",
       " 'yummy': 917,\n",
       " 'dj': 918,\n",
       " 'lots': 919,\n",
       " 'congrats': 920,\n",
       " 'whos': 921,\n",
       " 'american': 922,\n",
       " 'giving': 923,\n",
       " 'pride': 924,\n",
       " 'lawofattraction': 925,\n",
       " 'dreams': 926,\n",
       " 'three': 927,\n",
       " 'calling': 928,\n",
       " 'die': 929,\n",
       " 'political': 930,\n",
       " 'shot': 931,\n",
       " 'friendship': 932,\n",
       " 'poor': 933,\n",
       " 'india': 934,\n",
       " 'pussy': 935,\n",
       " 'husband': 936,\n",
       " 'room': 937,\n",
       " 'sea': 938,\n",
       " 'road': 939,\n",
       " 'fit': 940,\n",
       " 'writing': 941,\n",
       " 'queen': 942,\n",
       " 'ripchristina': 943,\n",
       " 'vegas': 944,\n",
       " 'wasnt': 945,\n",
       " 'pain': 946,\n",
       " 'sho': 947,\n",
       " 'staff': 948,\n",
       " 'e32016': 949,\n",
       " 'eah': 950,\n",
       " 'trending': 951,\n",
       " 'sale': 952,\n",
       " 'pizza': 953,\n",
       " 'given': 954,\n",
       " 'walking': 955,\n",
       " 'beer': 956,\n",
       " 'behind': 957,\n",
       " 'instamood': 958,\n",
       " 'spos': 959,\n",
       " 'street': 960,\n",
       " 'aint': 961,\n",
       " 'loves': 962,\n",
       " 'id': 963,\n",
       " 'fantastic': 964,\n",
       " 'wonder': 965,\n",
       " 'puppy': 966,\n",
       " 'page': 967,\n",
       " 'nyc': 968,\n",
       " 'self': 969,\n",
       " 'o': 970,\n",
       " 'shame': 971,\n",
       " 'congratulations': 972,\n",
       " 'missed': 973,\n",
       " 'lose': 974,\n",
       " 'series': 975,\n",
       " 'seriously': 976,\n",
       " 'class': 977,\n",
       " 'secret': 978,\n",
       " 'pink': 979,\n",
       " 'campaign': 980,\n",
       " 'instalike': 981,\n",
       " 'speak': 982,\n",
       " 'account': 983,\n",
       " 'war': 984,\n",
       " 'weve': 985,\n",
       " 'moments': 986,\n",
       " 'tears': 987,\n",
       " 'luck': 988,\n",
       " 'along': 989,\n",
       " 'wake': 990,\n",
       " 'tea': 991,\n",
       " 'babies': 992,\n",
       " 'hungry': 993,\n",
       " 'huge': 994,\n",
       " 'died': 995,\n",
       " 'actor': 996,\n",
       " 'knows': 997,\n",
       " 'sunset': 998,\n",
       " 'clean': 999,\n",
       " 'snapshot': 1000,\n",
       " ...}"
      ]
     },
     "execution_count": 25,
     "metadata": {},
     "output_type": "execute_result"
    }
   ],
   "source": [
    "vocabulary = {v: k for k, v in dict(enumerate(tokens_top, 1)).items()}\n",
    "vocabulary"
   ]
  },
  {
   "cell_type": "code",
   "execution_count": 26,
   "metadata": {
    "id": "5OULZgvkJzpj"
   },
   "outputs": [],
   "source": [
    "def text_to_sequence(text, maxlen):\n",
    "    result = []\n",
    "    tokens = word_tokenize(text.lower())\n",
    "    tokens_filtered = [word for word in tokens if word.isalnum()]\n",
    "    for word in tokens_filtered:\n",
    "        if word in vocabulary:\n",
    "            result.append(vocabulary[word])\n",
    "\n",
    "    padding = [0] * (maxlen-len(result))\n",
    "    return result[-maxlen:] + padding"
   ]
  },
  {
   "cell_type": "code",
   "execution_count": 27,
   "metadata": {
    "colab": {
     "base_uri": "https://localhost:8080/"
    },
    "id": "pqHlf5nNJ2hl",
    "outputId": "fafe24d4-c5f5-4474-ffe1-54ead0843cbe"
   },
   "outputs": [
    {
     "name": "stdout",
     "output_type": "stream",
     "text": [
      "CPU times: total: 4.14 s\n",
      "Wall time: 4.14 s\n"
     ]
    }
   ],
   "source": [
    "%%time\n",
    "x_train = np.asarray([text_to_sequence(text, max_len) for text in X_train[\"tweet\"]])\n",
    "x_val = np.asarray([text_to_sequence(text, max_len) for text in X_test[\"tweet\"]])"
   ]
  },
  {
   "cell_type": "code",
   "execution_count": 28,
   "metadata": {
    "colab": {
     "base_uri": "https://localhost:8080/"
    },
    "id": "lI4NUg_TJ6NK",
    "outputId": "32090c5f-1b2a-4cf3-9790-3412aae444c2"
   },
   "outputs": [
    {
     "data": {
      "text/plain": [
       "(22373, 20)"
      ]
     },
     "execution_count": 28,
     "metadata": {},
     "output_type": "execute_result"
    }
   ],
   "source": [
    "x_train.shape"
   ]
  },
  {
   "cell_type": "code",
   "execution_count": 29,
   "metadata": {
    "colab": {
     "base_uri": "https://localhost:8080/",
     "height": 36
    },
    "id": "0I6B2MHb81pF",
    "outputId": "19caee2c-1cf2-40bd-d853-0b45da59ace1"
   },
   "outputs": [
    {
     "data": {
      "text/plain": [
       "'i am inventive iam positive affirmation'"
      ]
     },
     "execution_count": 29,
     "metadata": {},
     "output_type": "execute_result"
    }
   ],
   "source": [
    "X_train['tweet'].iloc[0]"
   ]
  },
  {
   "cell_type": "code",
   "execution_count": 30,
   "metadata": {
    "colab": {
     "base_uri": "https://localhost:8080/"
    },
    "id": "9QlLvXd9KDf3",
    "outputId": "2a2197d7-d51b-42c7-a213-66ce312a63fb"
   },
   "outputs": [
    {
     "data": {
      "text/plain": [
       "array([  5,  38, 171,  53, 147,   0,   0,   0,   0,   0,   0,   0,   0,\n",
       "         0,   0,   0,   0,   0,   0,   0])"
      ]
     },
     "execution_count": 30,
     "metadata": {},
     "output_type": "execute_result"
    }
   ],
   "source": [
    "x_train[0]"
   ]
  },
  {
   "cell_type": "code",
   "execution_count": 31,
   "metadata": {
    "id": "Ynw9XOZNK4Wp"
   },
   "outputs": [],
   "source": [
    "class Net(nn.Module):\n",
    "    def __init__(self, vocab_size=2000, embedding_dim=128, out_channel=128, num_classes=1):\n",
    "        super().__init__()\n",
    "        self.embedding = nn.Embedding(vocab_size, embedding_dim)\n",
    "        self.conv_1 = nn.Conv1d(embedding_dim, out_channel, kernel_size=2)\n",
    "        self.conv_2 = nn.Conv1d(embedding_dim, out_channel, kernel_size=3)\n",
    "        self.pool = nn.MaxPool1d(2)\n",
    "        self.relu = nn.ReLU()\n",
    "        self.linear_1 = nn.Linear(out_channel, out_channel // 2)\n",
    "        self.linear_2 = nn.Linear(out_channel // 2, num_classes)\n",
    "        \n",
    "    def forward(self, x):        \n",
    "        output = self.embedding(x) # B, L, E\n",
    "        #                       B  E  L         \n",
    "        output = output.permute(0, 2, 1)\n",
    "        output = self.conv_1(output)\n",
    "        output = self.relu(output)\n",
    "        output = self.pool(output)\n",
    "\n",
    "        output = self.conv_2(output)\n",
    "        output = self.relu(output)\n",
    "        output = self.pool(output)\n",
    "        output = torch.max(output, axis=2).values\n",
    "        output = self.linear_1(output)\n",
    "        output = self.relu(output)\n",
    "        output = self.linear_2(output)\n",
    "        output = torch.sigmoid(output)\n",
    "        return output"
   ]
  },
  {
   "cell_type": "code",
   "execution_count": 32,
   "metadata": {
    "id": "PhwK7yLAK8b0"
   },
   "outputs": [],
   "source": [
    "class DataWrapper(Dataset):\n",
    "    def __init__(self, data, target, transform=None):\n",
    "        self.data = torch.from_numpy(data).long()\n",
    "        self.target = torch.from_numpy(target).long()\n",
    "        self.transform = transform\n",
    "        \n",
    "    def __getitem__(self, index):\n",
    "        x = self.data[index]\n",
    "        y = self.target[index]\n",
    "        \n",
    "        if self.transform:\n",
    "            x = self.transform(x)\n",
    "            \n",
    "        return x, y\n",
    "    \n",
    "    def __len__(self):\n",
    "        return len(self.data)"
   ]
  },
  {
   "cell_type": "code",
   "execution_count": 33,
   "metadata": {
    "id": "Qq0DK08tHKHf"
   },
   "outputs": [],
   "source": [
    "train_dataset = DataWrapper(x_train, X_train['label'].values)\n",
    "train_loader = DataLoader(train_dataset, batch_size=batch_size, shuffle=True)\n",
    "\n",
    "val_dataset = DataWrapper(x_val, X_test['label'].values)\n",
    "val_loader = DataLoader(val_dataset, batch_size=8, shuffle=True)"
   ]
  },
  {
   "cell_type": "code",
   "execution_count": 34,
   "metadata": {
    "colab": {
     "base_uri": "https://localhost:8080/"
    },
    "id": "J6v8MCvfPqJN",
    "outputId": "292ded6c-48ee-4107-e70a-3b5254be1ec0"
   },
   "outputs": [
    {
     "name": "stdout",
     "output_type": "stream",
     "text": [
      "torch.Size([512, 20])\n",
      "torch.Size([512])\n",
      "tensor(0)\n"
     ]
    }
   ],
   "source": [
    "for x, l in train_loader:\n",
    "    print(x.shape)\n",
    "    print(l.shape)\n",
    "    print(l[0])\n",
    "    break"
   ]
  },
  {
   "cell_type": "code",
   "execution_count": 35,
   "metadata": {
    "colab": {
     "base_uri": "https://localhost:8080/",
     "height": 36
    },
    "id": "F-3ExwIMG8BB",
    "outputId": "13f0330a-78e7-49df-aef2-b5388c9a509f"
   },
   "outputs": [
    {
     "data": {
      "text/plain": [
       "'cpu'"
      ]
     },
     "execution_count": 35,
     "metadata": {},
     "output_type": "execute_result"
    }
   ],
   "source": [
    "model = Net(vocab_size=max_words)\n",
    "\n",
    "device = 'cuda' if torch.cuda.is_available() else 'cpu'\n",
    "device"
   ]
  },
  {
   "cell_type": "code",
   "execution_count": 36,
   "metadata": {
    "colab": {
     "base_uri": "https://localhost:8080/"
    },
    "id": "ayB6rEFkHB1D",
    "outputId": "a3ded359-0344-49f9-9f80-8b1a3dc4e575"
   },
   "outputs": [
    {
     "name": "stdout",
     "output_type": "stream",
     "text": [
      "Net(\n",
      "  (embedding): Embedding(2000, 128)\n",
      "  (conv_1): Conv1d(128, 128, kernel_size=(2,), stride=(1,))\n",
      "  (conv_2): Conv1d(128, 128, kernel_size=(3,), stride=(1,))\n",
      "  (pool): MaxPool1d(kernel_size=2, stride=2, padding=0, dilation=1, ceil_mode=False)\n",
      "  (relu): ReLU()\n",
      "  (linear_1): Linear(in_features=128, out_features=64, bias=True)\n",
      "  (linear_2): Linear(in_features=64, out_features=1, bias=True)\n",
      ")\n",
      "Parameters: 346497\n"
     ]
    }
   ],
   "source": [
    "print(model)\n",
    "print(\"Parameters:\", sum([param.nelement() for param in model.parameters()]))"
   ]
  },
  {
   "cell_type": "code",
   "execution_count": 37,
   "metadata": {
    "id": "vOpjN8zrHIfJ"
   },
   "outputs": [],
   "source": [
    "optimizer = torch.optim.Adam(model.parameters(), lr=0.01)\n",
    "criterion = nn.BCELoss()"
   ]
  },
  {
   "cell_type": "code",
   "execution_count": 38,
   "metadata": {
    "colab": {
     "base_uri": "https://localhost:8080/"
    },
    "id": "ee9kfUQaCXpl",
    "outputId": "a12f6d00-006b-4909-a37b-9c5faee93b36"
   },
   "outputs": [
    {
     "name": "stdout",
     "output_type": "stream",
     "text": [
      "Epoch [1/5]. Step [44/44]. Loss: 0.188. Acc: 0.930. Test loss: 0.097. Test acc: 0.930\n",
      "Epoch [2/5]. Step [44/44]. Loss: 0.138. Acc: 0.930. Test loss: 0.035. Test acc: 0.943\n",
      "Epoch [3/5]. Step [44/44]. Loss: 0.110. Acc: 0.957. Test loss: 0.033. Test acc: 0.948\n",
      "Epoch [4/5]. Step [44/44]. Loss: 0.070. Acc: 0.972. Test loss: 0.007. Test acc: 0.946\n",
      "Epoch [5/5]. Step [44/44]. Loss: 0.068. Acc: 0.983. Test loss: 0.001. Test acc: 0.941\n",
      "Training is finished!\n"
     ]
    }
   ],
   "source": [
    "#model = model.to(device)\n",
    "model.train()\n",
    "th = 0.5\n",
    "\n",
    "train_loss_history = []\n",
    "test_loss_history = []\n",
    "\n",
    "\n",
    "for epoch in range(epochs):  \n",
    "    running_items, running_right = 0.0, 0.0\n",
    "    for i, data in enumerate(train_loader, 0):\n",
    " #       inputs, labels = data[0].to(device), data[1].to(device)\n",
    "        inputs, labels = data[0], data[1]\n",
    "        \n",
    "        # обнуляем градиент\n",
    "        optimizer.zero_grad()\n",
    "        outputs = model(inputs)\n",
    "        \n",
    "        loss = criterion(outputs, labels.float().view(-1, 1))\n",
    "        loss.backward()\n",
    "        optimizer.step()\n",
    "\n",
    "        # подсчет ошибки на обучении\n",
    "        loss = loss.item()\n",
    "        running_items += len(labels)\n",
    "        # подсчет метрики на обучении\n",
    "        pred_labels = torch.squeeze((outputs > th).int())\n",
    "        running_right += (labels == pred_labels).sum()\n",
    "        \n",
    "    # выводим статистику о процессе обучения\n",
    "    model.eval()\n",
    "    \n",
    "    print(f'Epoch [{epoch + 1}/{epochs}]. ' \\\n",
    "            f'Step [{i + 1}/{len(train_loader)}]. ' \\\n",
    "            f'Loss: {loss:.3f}. ' \\\n",
    "            f'Acc: {running_right / running_items:.3f}', end='. ')\n",
    "    running_loss, running_items, running_right = 0.0, 0.0, 0.0\n",
    "    train_loss_history.append(loss)\n",
    "\n",
    "        # выводим статистику на тестовых данных\n",
    "    test_running_right, test_running_total, test_loss = 0.0, 0.0, 0.0\n",
    "    for j, data in enumerate(val_loader):\n",
    "        test_labels = data[1] #.to(device)\n",
    "        test_outputs = model(data[0]) #.to(device))\n",
    "        \n",
    "        # подсчет ошибки на тесте\n",
    "        test_loss = criterion(test_outputs, test_labels.float().view(-1, 1))\n",
    "        # подсчет метрики на тесте\n",
    "        test_running_total += len(data[1])\n",
    "        pred_test_labels = torch.squeeze((test_outputs > th).int())\n",
    "        test_running_right += (test_labels == pred_test_labels).sum()\n",
    "    \n",
    "    test_loss_history.append(test_loss.item())\n",
    "    print(f'Test loss: {test_loss:.3f}. Test acc: {test_running_right / test_running_total:.3f}')\n",
    "    \n",
    "    model.train()\n",
    "        \n",
    "print('Training is finished!')"
   ]
  },
  {
   "cell_type": "code",
   "execution_count": 39,
   "metadata": {
    "colab": {
     "base_uri": "https://localhost:8080/",
     "height": 295
    },
    "id": "jRFEu1X4jpLU",
    "outputId": "6ab2ce7a-1a8f-4fb5-d58c-e68775fa902a"
   },
   "outputs": [
    {
     "data": {
      "image/png": "[encoded data removed]",
      "text/plain": [
       "<Figure size 432x288 with 1 Axes>"
      ]
     },
     "metadata": {
      "needs_background": "light"
     },
     "output_type": "display_data"
    }
   ],
   "source": [
    "import matplotlib.pyplot as plt\n",
    "\n",
    "plt.title('Loss history')\n",
    "plt.grid(True)\n",
    "plt.ylabel('Loss')\n",
    "plt.xlabel('Epoch')\n",
    "plt.plot(train_loss_history, label='train')\n",
    "plt.plot(test_loss_history, label='test')\n",
    "plt.legend();"
   ]
  }
 ],
 "metadata": {
  "accelerator": "GPU",
  "colab": {
   "provenance": [],
   "toc_visible": true
  },
  "kernelspec": {
   "display_name": "Python 3 (ipykernel)",
   "language": "python",
   "name": "python3"
  },
  "language_info": {
   "codemirror_mode": {
    "name": "ipython",
    "version": 3
   },
   "file_extension": ".py",
   "mimetype": "text/x-python",
   "name": "python",
   "nbconvert_exporter": "python",
   "pygments_lexer": "ipython3",
   "version": "3.9.13"
  }
 },
 "nbformat": 4,
 "nbformat_minor": 1
}
