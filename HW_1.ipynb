{
 "cells": [
  {
   "cell_type": "code",
   "execution_count": 1,
   "metadata": {
    "id": "_CNZn_3CofVO"
   },
   "outputs": [],
   "source": [
    "import torch"
   ]
  },
  {
   "cell_type": "code",
   "execution_count": 2,
   "metadata": {
    "id": "QGYTKAxeofVR"
   },
   "outputs": [
    {
     "data": {
      "text/plain": [
       "tensor([[[0.5667, 0.5470, 0.3554, 0.4086, 0.8570],\n",
       "         [0.0939, 0.1377, 0.5745, 0.1992, 0.0824],\n",
       "         [0.6950, 0.7641, 0.9080, 0.2301, 0.0656],\n",
       "         [0.7515, 0.4881, 0.2425, 0.7235, 0.5737]],\n",
       "\n",
       "        [[0.5372, 0.6494, 0.1120, 0.0912, 0.7456],\n",
       "         [0.1579, 0.5938, 0.6351, 0.7649, 0.4906],\n",
       "         [0.6524, 0.5694, 0.0588, 0.0167, 0.4460],\n",
       "         [0.7230, 0.0778, 0.6268, 0.5273, 0.6845]],\n",
       "\n",
       "        [[0.2573, 0.2114, 0.3715, 0.9387, 0.7023],\n",
       "         [0.8983, 0.4720, 0.0455, 0.1839, 0.7706],\n",
       "         [0.5974, 0.6262, 0.0933, 0.1117, 0.4324],\n",
       "         [0.2438, 0.1951, 0.6520, 0.9054, 0.3482]]])"
      ]
     },
     "execution_count": 2,
     "metadata": {},
     "output_type": "execute_result"
    }
   ],
   "source": [
    "# 1. Создайте случайный FloatTensor размера 3x4x5\n",
    "x = torch.rand(size=(3,4,5))\n",
    "x"
   ]
  },
  {
   "cell_type": "code",
   "execution_count": 3,
   "metadata": {
    "id": "7GV_q8DdofVV"
   },
   "outputs": [
    {
     "data": {
      "text/plain": [
       "torch.Size([3, 4, 5])"
      ]
     },
     "execution_count": 3,
     "metadata": {},
     "output_type": "execute_result"
    }
   ],
   "source": [
    "# 2. Выведите его форму (shape)\n",
    "x.shape"
   ]
  },
  {
   "cell_type": "code",
   "execution_count": 4,
   "metadata": {
    "id": "f1OTy65FofVX"
   },
   "outputs": [
    {
     "data": {
      "text/plain": [
       "tensor([[0.5667, 0.5470, 0.3554, 0.4086, 0.8570, 0.0939, 0.1377, 0.5745, 0.1992,\n",
       "         0.0824],\n",
       "        [0.6950, 0.7641, 0.9080, 0.2301, 0.0656, 0.7515, 0.4881, 0.2425, 0.7235,\n",
       "         0.5737],\n",
       "        [0.5372, 0.6494, 0.1120, 0.0912, 0.7456, 0.1579, 0.5938, 0.6351, 0.7649,\n",
       "         0.4906],\n",
       "        [0.6524, 0.5694, 0.0588, 0.0167, 0.4460, 0.7230, 0.0778, 0.6268, 0.5273,\n",
       "         0.6845],\n",
       "        [0.2573, 0.2114, 0.3715, 0.9387, 0.7023, 0.8983, 0.4720, 0.0455, 0.1839,\n",
       "         0.7706],\n",
       "        [0.5974, 0.6262, 0.0933, 0.1117, 0.4324, 0.2438, 0.1951, 0.6520, 0.9054,\n",
       "         0.3482]])"
      ]
     },
     "execution_count": 4,
     "metadata": {},
     "output_type": "execute_result"
    }
   ],
   "source": [
    "# 3. Приведите его к форме 6х10\n",
    "x.resize_(6,10)"
   ]
  },
  {
   "cell_type": "code",
   "execution_count": 5,
   "metadata": {
    "id": "BEVOv9_TofVe"
   },
   "outputs": [
    {
     "data": {
      "text/plain": [
       "tensor([1, 4, 7, 3, 8, 7, 6, 8, 3, 4])"
      ]
     },
     "execution_count": 5,
     "metadata": {},
     "output_type": "execute_result"
    }
   ],
   "source": [
    "# 4. Создайте случайный IntTensor размера 10\n",
    "y = torch.randint(9, size=(10,))\n",
    "y"
   ]
  },
  {
   "cell_type": "code",
   "execution_count": 6,
   "metadata": {
    "id": "TAX3DUiSa07K"
   },
   "outputs": [
    {
     "data": {
      "text/plain": [
       "tensor([[1.5667, 4.5470, 7.3554, 3.4086, 8.8570, 7.0939, 6.1377, 8.5745, 3.1992,\n",
       "         4.0824],\n",
       "        [1.6950, 4.7641, 7.9080, 3.2301, 8.0656, 7.7515, 6.4881, 8.2425, 3.7235,\n",
       "         4.5737],\n",
       "        [1.5372, 4.6494, 7.1120, 3.0912, 8.7456, 7.1579, 6.5938, 8.6351, 3.7649,\n",
       "         4.4906],\n",
       "        [1.6524, 4.5694, 7.0588, 3.0167, 8.4460, 7.7230, 6.0778, 8.6268, 3.5273,\n",
       "         4.6845],\n",
       "        [1.2573, 4.2114, 7.3715, 3.9387, 8.7023, 7.8983, 6.4720, 8.0455, 3.1839,\n",
       "         4.7706],\n",
       "        [1.5974, 4.6262, 7.0933, 3.1117, 8.4324, 7.2438, 6.1951, 8.6520, 3.9054,\n",
       "         4.3482]])"
      ]
     },
     "execution_count": 6,
     "metadata": {},
     "output_type": "execute_result"
    }
   ],
   "source": [
    "# 5. Умножьте созданный FloatTensor на созданный IntTensor поэлементно\n",
    "x_plus_y = x+y\n",
    "x_plus_y"
   ]
  },
  {
   "cell_type": "code",
   "execution_count": 7,
   "metadata": {},
   "outputs": [
    {
     "data": {
      "text/plain": [
       "torch.Size([6, 10])"
      ]
     },
     "execution_count": 7,
     "metadata": {},
     "output_type": "execute_result"
    }
   ],
   "source": [
    "x_plus_y.shape"
   ]
  },
  {
   "cell_type": "code",
   "execution_count": 8,
   "metadata": {
    "id": "eUxdWlQZofVi"
   },
   "outputs": [
    {
     "data": {
      "text/plain": [
       "tensor([[355.7136, 361.0016, 359.5234, 356.8434, 360.2413, 354.8458],\n",
       "        [361.0016, 368.4985, 365.5192, 363.2218, 366.6054, 360.9930],\n",
       "        [359.5234, 365.5192, 364.2196, 361.3428, 364.3151, 359.4166],\n",
       "        [356.8434, 363.2218, 361.3428, 359.2636, 362.0557, 356.8351],\n",
       "        [360.2413, 366.6054, 364.3151, 362.0557, 366.7950, 359.5124],\n",
       "        [354.8458, 360.9930, 359.4166, 356.8351, 359.5124, 354.9234]])"
      ]
     },
     "execution_count": 8,
     "metadata": {},
     "output_type": "execute_result"
    }
   ],
   "source": [
    "# 6. Умножьте тензор матрично на себя, чтобы результат был размерности 6x6\n",
    "# Подсказка: .dot может не подойти\n",
    "new_mtrx = torch.matmul(x_plus_y, x_plus_y.T)\n",
    "new_mtrx"
   ]
  },
  {
   "cell_type": "code",
   "execution_count": 9,
   "metadata": {},
   "outputs": [
    {
     "data": {
      "text/plain": [
       "torch.Size([6, 6])"
      ]
     },
     "execution_count": 9,
     "metadata": {},
     "output_type": "execute_result"
    }
   ],
   "source": [
    "new_mtrx.shape"
   ]
  },
  {
   "cell_type": "code",
   "execution_count": 10,
   "metadata": {
    "id": "u3V6CsNkofVj"
   },
   "outputs": [],
   "source": [
    "# 7. Посчитайте производную функции y = x**3 + z - 75t в точке (1, 0.5, 2)\n",
    "#drv_y(x) = 3x**2, drv_y(z) = 1, drv_y(t) = 75  => in point (1, 0.5, 2) deriv = (3, 1, -75)\n",
    "point_x = torch.tensor([1.], requires_grad=True)\n",
    "point_z = torch.tensor([0.5], requires_grad=True)\n",
    "point_t = torch.tensor([2.], requires_grad=True)\n",
    "ort_1 = torch.ones(size=(1,), requires_grad=True)"
   ]
  },
  {
   "cell_type": "code",
   "execution_count": 11,
   "metadata": {},
   "outputs": [],
   "source": [
    "h = point_x**3 + point_z - 75 * point_t"
   ]
  },
  {
   "cell_type": "code",
   "execution_count": 12,
   "metadata": {},
   "outputs": [],
   "source": [
    "h.backward(ort_1)"
   ]
  },
  {
   "cell_type": "code",
   "execution_count": 13,
   "metadata": {},
   "outputs": [
    {
     "name": "stdout",
     "output_type": "stream",
     "text": [
      " y function derivative in point with coordinates: \n",
      " x = tensor([3.])\n",
      " z = tensor([1.])\n",
      " t = tensor([-75.])\n"
     ]
    }
   ],
   "source": [
    "print(f' y function derivative in point with coordinates: \\n x = {point_x.grad}\\n z = {point_z.grad}\\n t = {point_t.grad}')"
   ]
  },
  {
   "cell_type": "code",
   "execution_count": 14,
   "metadata": {
    "id": "FzH6QkyxofVm"
   },
   "outputs": [
    {
     "data": {
      "text/plain": [
       "tensor([[1., 1., 1., 1., 1., 1.],\n",
       "        [1., 1., 1., 1., 1., 1.],\n",
       "        [1., 1., 1., 1., 1., 1.],\n",
       "        [1., 1., 1., 1., 1., 1.],\n",
       "        [1., 1., 1., 1., 1., 1.]])"
      ]
     },
     "execution_count": 14,
     "metadata": {},
     "output_type": "execute_result"
    }
   ],
   "source": [
    "# 8. Создайте единичный тензор размера 5x6\n",
    "ones = torch.ones(size=(5,6))\n",
    "ones"
   ]
  },
  {
   "cell_type": "code",
   "execution_count": 15,
   "metadata": {
    "id": "z49ttvWPofVo"
   },
   "outputs": [
    {
     "data": {
      "text/plain": [
       "array([[1., 1., 1., 1., 1., 1.],\n",
       "       [1., 1., 1., 1., 1., 1.],\n",
       "       [1., 1., 1., 1., 1., 1.],\n",
       "       [1., 1., 1., 1., 1., 1.],\n",
       "       [1., 1., 1., 1., 1., 1.]], dtype=float32)"
      ]
     },
     "execution_count": 15,
     "metadata": {},
     "output_type": "execute_result"
    }
   ],
   "source": [
    "# 9. Переведите его в формат numpy\n",
    "np_arr = ones.numpy()\n",
    "np_arr"
   ]
  },
  {
   "cell_type": "code",
   "execution_count": null,
   "metadata": {},
   "outputs": [],
   "source": []
  }
 ],
 "metadata": {
  "colab": {
   "provenance": []
  },
  "kernelspec": {
   "display_name": "Python 3 (ipykernel)",
   "language": "python",
   "name": "python3"
  },
  "language_info": {
   "codemirror_mode": {
    "name": "ipython",
    "version": 3
   },
   "file_extension": ".py",
   "mimetype": "text/x-python",
   "name": "python",
   "nbconvert_exporter": "python",
   "pygments_lexer": "ipython3",
   "version": "3.9.13"
  }
 },
 "nbformat": 4,
 "nbformat_minor": 1
}
