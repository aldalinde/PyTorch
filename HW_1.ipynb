{
 "cells": [
  {
   "cell_type": "code",
   "execution_count": 1,
   "metadata": {
    "id": "_CNZn_3CofVO"
   },
   "outputs": [],
   "source": [
    "import torch"
   ]
  },
  {
   "cell_type": "code",
   "execution_count": 2,
   "metadata": {
    "id": "QGYTKAxeofVR"
   },
   "outputs": [
    {
     "data": {
      "text/plain": [
       "tensor([[[0.9917, 0.7013, 0.5787, 0.4817, 0.3039],\n",
       "         [0.0102, 0.9716, 0.9509, 0.5484, 0.9454],\n",
       "         [0.4547, 0.5416, 0.2677, 0.7927, 0.0616],\n",
       "         [0.3963, 0.9071, 0.8776, 0.0975, 0.1859]],\n",
       "\n",
       "        [[0.8254, 0.6537, 0.9554, 0.4736, 0.7361],\n",
       "         [0.8345, 0.0528, 0.6523, 0.2825, 0.5498],\n",
       "         [0.9004, 0.6565, 0.9810, 0.1030, 0.2391],\n",
       "         [0.7143, 0.1697, 0.1143, 0.8218, 0.7974]],\n",
       "\n",
       "        [[0.8292, 0.0492, 0.0805, 0.0327, 0.6030],\n",
       "         [0.4760, 0.5971, 0.8103, 0.6565, 0.6479],\n",
       "         [0.7836, 0.5727, 0.3944, 0.6659, 0.5428],\n",
       "         [0.5545, 0.7863, 0.0024, 0.8609, 0.4719]]])"
      ]
     },
     "execution_count": 2,
     "metadata": {},
     "output_type": "execute_result"
    }
   ],
   "source": [
    "# 1. Создайте случайный FloatTensor размера 3x4x5\n",
    "x = torch.rand(size=(3,4,5))\n",
    "x"
   ]
  },
  {
   "cell_type": "code",
   "execution_count": 3,
   "metadata": {
    "id": "7GV_q8DdofVV"
   },
   "outputs": [
    {
     "data": {
      "text/plain": [
       "torch.Size([3, 4, 5])"
      ]
     },
     "execution_count": 3,
     "metadata": {},
     "output_type": "execute_result"
    }
   ],
   "source": [
    "# 2. Выведите его форму (shape)\n",
    "x.shape"
   ]
  },
  {
   "cell_type": "code",
   "execution_count": 4,
   "metadata": {
    "id": "f1OTy65FofVX"
   },
   "outputs": [
    {
     "data": {
      "text/plain": [
       "tensor([[0.9917, 0.7013, 0.5787, 0.4817, 0.3039, 0.0102, 0.9716, 0.9509, 0.5484,\n",
       "         0.9454],\n",
       "        [0.4547, 0.5416, 0.2677, 0.7927, 0.0616, 0.3963, 0.9071, 0.8776, 0.0975,\n",
       "         0.1859],\n",
       "        [0.8254, 0.6537, 0.9554, 0.4736, 0.7361, 0.8345, 0.0528, 0.6523, 0.2825,\n",
       "         0.5498],\n",
       "        [0.9004, 0.6565, 0.9810, 0.1030, 0.2391, 0.7143, 0.1697, 0.1143, 0.8218,\n",
       "         0.7974],\n",
       "        [0.8292, 0.0492, 0.0805, 0.0327, 0.6030, 0.4760, 0.5971, 0.8103, 0.6565,\n",
       "         0.6479],\n",
       "        [0.7836, 0.5727, 0.3944, 0.6659, 0.5428, 0.5545, 0.7863, 0.0024, 0.8609,\n",
       "         0.4719]])"
      ]
     },
     "execution_count": 4,
     "metadata": {},
     "output_type": "execute_result"
    }
   ],
   "source": [
    "# 3. Приведите его к форме 6х10\n",
    "x.resize_(6,10)"
   ]
  },
  {
   "cell_type": "code",
   "execution_count": 5,
   "metadata": {
    "id": "BEVOv9_TofVe"
   },
   "outputs": [
    {
     "data": {
      "text/plain": [
       "tensor([2, 4, 3, 1, 7, 0, 0, 6, 2, 0])"
      ]
     },
     "execution_count": 5,
     "metadata": {},
     "output_type": "execute_result"
    }
   ],
   "source": [
    "# 4. Создайте случайный IntTensor размера 10\n",
    "y = torch.randint(9, size=(10,))\n",
    "y"
   ]
  },
  {
   "cell_type": "code",
   "execution_count": 6,
   "metadata": {
    "id": "TAX3DUiSa07K"
   },
   "outputs": [
    {
     "data": {
      "text/plain": [
       "tensor([[2.9917, 4.7013, 3.5787, 1.4817, 7.3039, 0.0102, 0.9716, 6.9509, 2.5484,\n",
       "         0.9454],\n",
       "        [2.4547, 4.5416, 3.2677, 1.7927, 7.0616, 0.3963, 0.9071, 6.8776, 2.0975,\n",
       "         0.1859],\n",
       "        [2.8254, 4.6537, 3.9554, 1.4736, 7.7361, 0.8345, 0.0528, 6.6523, 2.2825,\n",
       "         0.5498],\n",
       "        [2.9004, 4.6565, 3.9810, 1.1030, 7.2391, 0.7143, 0.1697, 6.1143, 2.8218,\n",
       "         0.7974],\n",
       "        [2.8292, 4.0492, 3.0805, 1.0327, 7.6030, 0.4760, 0.5971, 6.8103, 2.6565,\n",
       "         0.6479],\n",
       "        [2.7836, 4.5727, 3.3944, 1.6659, 7.5428, 0.5545, 0.7863, 6.0024, 2.8609,\n",
       "         0.4719]])"
      ]
     },
     "execution_count": 6,
     "metadata": {},
     "output_type": "execute_result"
    }
   ],
   "source": [
    "# 5. Умножьте созданный FloatTensor на созданный IntTensor поэлементно\n",
    "x_plus_y = x+y\n",
    "x_plus_y"
   ]
  },
  {
   "cell_type": "code",
   "execution_count": 7,
   "metadata": {},
   "outputs": [
    {
     "data": {
      "text/plain": [
       "torch.Size([6, 10])"
      ]
     },
     "execution_count": 7,
     "metadata": {},
     "output_type": "execute_result"
    }
   ],
   "source": [
    "x_plus_y.shape"
   ]
  },
  {
   "cell_type": "code",
   "execution_count": 8,
   "metadata": {
    "id": "eUxdWlQZofVi"
   },
   "outputs": [
    {
     "data": {
      "text/plain": [
       "tensor([[156.0475, 148.8332, 155.8086, 149.9396, 150.8910, 149.7608],\n",
       "        [148.8332, 143.1236, 149.2867, 142.9284, 144.2025, 143.2458],\n",
       "        [155.8086, 149.2867, 157.7687, 151.3976, 151.5145, 150.6014],\n",
       "        [149.9396, 142.9284, 151.3976, 146.0869, 145.5968, 144.9991],\n",
       "        [150.8910, 144.2025, 151.5145, 145.5968, 147.2026, 145.4333],\n",
       "        [149.7608, 143.2458, 150.6014, 144.9991, 145.4333, 145.2109]])"
      ]
     },
     "execution_count": 8,
     "metadata": {},
     "output_type": "execute_result"
    }
   ],
   "source": [
    "# 6. Умножьте тензор матрично на себя, чтобы результат был размерности 6x6\n",
    "# Подсказка: .dot может не подойти\n",
    "new_mtrx = torch.matmul(x_plus_y, x_plus_y.T)\n",
    "new_mtrx"
   ]
  },
  {
   "cell_type": "code",
   "execution_count": 9,
   "metadata": {},
   "outputs": [
    {
     "data": {
      "text/plain": [
       "torch.Size([6, 6])"
      ]
     },
     "execution_count": 9,
     "metadata": {},
     "output_type": "execute_result"
    }
   ],
   "source": [
    "new_mtrx.shape"
   ]
  },
  {
   "cell_type": "code",
   "execution_count": 10,
   "metadata": {
    "id": "u3V6CsNkofVj"
   },
   "outputs": [],
   "source": [
    "# 7. Посчитайте производную функции y = x**3 + z - 75t в точке (1, 0.5, 2)\n",
    "#drv_y(x) = 3x**2, drv_y(z) = 1, drv_y(t) = 75  => in point (1, 0.5, 2) deriv = (3, 1, -75)\n",
    "point_x = torch.tensor([1.], requires_grad=True)\n",
    "point_z = torch.tensor([0.5], requires_grad=True)\n",
    "point_t = torch.tensor([2.], requires_grad=True)\n",
    "ort_1 = torch.ones(size=(1,), requires_grad=True)"
   ]
  },
  {
   "cell_type": "code",
   "execution_count": 11,
   "metadata": {},
   "outputs": [],
   "source": [
    "h = point_x**3 + point_z - 75 * point_t"
   ]
  },
  {
   "cell_type": "code",
   "execution_count": 12,
   "metadata": {},
   "outputs": [],
   "source": [
    "h.backward(ort_1)"
   ]
  },
  {
   "cell_type": "code",
   "execution_count": 18,
   "metadata": {},
   "outputs": [
    {
     "name": "stdout",
     "output_type": "stream",
     "text": [
      " y function derivative in point: \n",
      " x = tensor([3.])\n",
      " z = tensor([1.])\n",
      " t = tensor([-75.])\n"
     ]
    }
   ],
   "source": [
    "print(f' y function derivative in point: \\n x = {point_x.grad}\\n z = {point_z.grad}\\n t = {point_t.grad}')"
   ]
  },
  {
   "cell_type": "code",
   "execution_count": 14,
   "metadata": {
    "id": "FzH6QkyxofVm"
   },
   "outputs": [
    {
     "data": {
      "text/plain": [
       "tensor([[1., 1., 1., 1., 1., 1.],\n",
       "        [1., 1., 1., 1., 1., 1.],\n",
       "        [1., 1., 1., 1., 1., 1.],\n",
       "        [1., 1., 1., 1., 1., 1.],\n",
       "        [1., 1., 1., 1., 1., 1.]])"
      ]
     },
     "execution_count": 14,
     "metadata": {},
     "output_type": "execute_result"
    }
   ],
   "source": [
    "# 8. Создайте единичный тензор размера 5x6\n",
    "ones = torch.ones(size=(5,6))\n",
    "ones"
   ]
  },
  {
   "cell_type": "code",
   "execution_count": 15,
   "metadata": {
    "id": "z49ttvWPofVo"
   },
   "outputs": [
    {
     "data": {
      "text/plain": [
       "array([[1., 1., 1., 1., 1., 1.],\n",
       "       [1., 1., 1., 1., 1., 1.],\n",
       "       [1., 1., 1., 1., 1., 1.],\n",
       "       [1., 1., 1., 1., 1., 1.],\n",
       "       [1., 1., 1., 1., 1., 1.]], dtype=float32)"
      ]
     },
     "execution_count": 15,
     "metadata": {},
     "output_type": "execute_result"
    }
   ],
   "source": [
    "# 9. Переведите его в формат numpy\n",
    "np_arr = ones.numpy()\n",
    "np_arr"
   ]
  },
  {
   "cell_type": "code",
   "execution_count": null,
   "metadata": {},
   "outputs": [],
   "source": []
  }
 ],
 "metadata": {
  "colab": {
   "provenance": []
  },
  "kernelspec": {
   "display_name": "Python 3 (ipykernel)",
   "language": "python",
   "name": "python3"
  },
  "language_info": {
   "codemirror_mode": {
    "name": "ipython",
    "version": 3
   },
   "file_extension": ".py",
   "mimetype": "text/x-python",
   "name": "python",
   "nbconvert_exporter": "python",
   "pygments_lexer": "ipython3",
   "version": "3.9.13"
  }
 },
 "nbformat": 4,
 "nbformat_minor": 1
}
