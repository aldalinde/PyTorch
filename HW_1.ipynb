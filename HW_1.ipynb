{
 "cells": [
  {
   "cell_type": "code",
   "execution_count": 1,
   "metadata": {
    "id": "_CNZn_3CofVO"
   },
   "outputs": [],
   "source": [
    "import torch"
   ]
  },
  {
   "cell_type": "code",
   "execution_count": 2,
   "metadata": {
    "id": "QGYTKAxeofVR"
   },
   "outputs": [
    {
     "data": {
      "text/plain": [
       "tensor([[[0.9445, 0.8510, 0.5991, 0.1757, 0.4707],\n",
       "         [0.5475, 0.6719, 0.8362, 0.4766, 0.2399],\n",
       "         [0.5042, 0.0862, 0.0833, 0.8345, 0.0112],\n",
       "         [0.2634, 0.6539, 0.4357, 0.2196, 0.7293]],\n",
       "\n",
       "        [[0.0862, 0.0031, 0.2906, 0.4413, 0.0330],\n",
       "         [0.3245, 0.0199, 0.3099, 0.9257, 0.0515],\n",
       "         [0.3553, 0.7584, 0.3399, 0.4410, 0.3972],\n",
       "         [0.8283, 0.6199, 0.1360, 0.3594, 0.5745]],\n",
       "\n",
       "        [[0.6427, 0.7812, 0.7549, 0.3777, 0.8071],\n",
       "         [0.6134, 0.7595, 0.6038, 0.5526, 0.2116],\n",
       "         [0.6285, 0.0320, 0.8600, 0.6047, 0.8718],\n",
       "         [0.2614, 0.7397, 0.8610, 0.1605, 0.9138]]])"
      ]
     },
     "execution_count": 2,
     "metadata": {},
     "output_type": "execute_result"
    }
   ],
   "source": [
    "# 1. Создайте случайный FloatTensor размера 3x4x5\n",
    "x = torch.rand(size=(3,4,5))\n",
    "x"
   ]
  },
  {
   "cell_type": "code",
   "execution_count": 3,
   "metadata": {
    "id": "7GV_q8DdofVV"
   },
   "outputs": [
    {
     "data": {
      "text/plain": [
       "torch.Size([3, 4, 5])"
      ]
     },
     "execution_count": 3,
     "metadata": {},
     "output_type": "execute_result"
    }
   ],
   "source": [
    "# 2. Выведите его форму (shape)\n",
    "x.shape"
   ]
  },
  {
   "cell_type": "code",
   "execution_count": 4,
   "metadata": {
    "id": "f1OTy65FofVX"
   },
   "outputs": [
    {
     "data": {
      "text/plain": [
       "tensor([[0.9445, 0.8510, 0.5991, 0.1757, 0.4707, 0.5475, 0.6719, 0.8362, 0.4766,\n",
       "         0.2399],\n",
       "        [0.5042, 0.0862, 0.0833, 0.8345, 0.0112, 0.2634, 0.6539, 0.4357, 0.2196,\n",
       "         0.7293],\n",
       "        [0.0862, 0.0031, 0.2906, 0.4413, 0.0330, 0.3245, 0.0199, 0.3099, 0.9257,\n",
       "         0.0515],\n",
       "        [0.3553, 0.7584, 0.3399, 0.4410, 0.3972, 0.8283, 0.6199, 0.1360, 0.3594,\n",
       "         0.5745],\n",
       "        [0.6427, 0.7812, 0.7549, 0.3777, 0.8071, 0.6134, 0.7595, 0.6038, 0.5526,\n",
       "         0.2116],\n",
       "        [0.6285, 0.0320, 0.8600, 0.6047, 0.8718, 0.2614, 0.7397, 0.8610, 0.1605,\n",
       "         0.9138]])"
      ]
     },
     "execution_count": 4,
     "metadata": {},
     "output_type": "execute_result"
    }
   ],
   "source": [
    "# 3. Приведите его к форме 6х10\n",
    "x.resize_(6,10)"
   ]
  },
  {
   "cell_type": "code",
   "execution_count": 5,
   "metadata": {
    "id": "BEVOv9_TofVe"
   },
   "outputs": [
    {
     "data": {
      "text/plain": [
       "tensor([4, 8, 6, 3, 6, 2, 7, 4, 1, 7])"
      ]
     },
     "execution_count": 5,
     "metadata": {},
     "output_type": "execute_result"
    }
   ],
   "source": [
    "# 4. Создайте случайный IntTensor размера 10\n",
    "y = torch.randint(9, size=(10,))\n",
    "y"
   ]
  },
  {
   "cell_type": "code",
   "execution_count": 6,
   "metadata": {
    "id": "TAX3DUiSa07K"
   },
   "outputs": [
    {
     "data": {
      "text/plain": [
       "tensor([[4.9445, 8.8510, 6.5991, 3.1757, 6.4707, 2.5475, 7.6719, 4.8362, 1.4766,\n",
       "         7.2399],\n",
       "        [4.5042, 8.0862, 6.0833, 3.8345, 6.0112, 2.2634, 7.6539, 4.4357, 1.2196,\n",
       "         7.7293],\n",
       "        [4.0862, 8.0031, 6.2906, 3.4413, 6.0330, 2.3245, 7.0199, 4.3099, 1.9257,\n",
       "         7.0515],\n",
       "        [4.3553, 8.7584, 6.3399, 3.4410, 6.3972, 2.8283, 7.6199, 4.1360, 1.3594,\n",
       "         7.5745],\n",
       "        [4.6427, 8.7812, 6.7549, 3.3777, 6.8071, 2.6134, 7.7595, 4.6038, 1.5526,\n",
       "         7.2116],\n",
       "        [4.6285, 8.0320, 6.8600, 3.6047, 6.8718, 2.2614, 7.7397, 4.8610, 1.1605,\n",
       "         7.9138]])"
      ]
     },
     "execution_count": 6,
     "metadata": {},
     "output_type": "execute_result"
    }
   ],
   "source": [
    "# 5. Умножьте созданный FloatTensor на созданный IntTensor поэлементно\n",
    "x_plus_y = x+y\n",
    "x_plus_y"
   ]
  },
  {
   "cell_type": "code",
   "execution_count": 7,
   "metadata": {},
   "outputs": [
    {
     "data": {
      "text/plain": [
       "torch.Size([6, 10])"
      ]
     },
     "execution_count": 7,
     "metadata": {},
     "output_type": "execute_result"
    }
   ],
   "source": [
    "x_plus_y.shape"
   ]
  },
  {
   "cell_type": "code",
   "execution_count": 8,
   "metadata": {
    "id": "eUxdWlQZofVi"
   },
   "outputs": [
    {
     "data": {
      "text/plain": [
       "tensor([[341.6251, 328.7589, 317.0359, 335.7286, 342.9851, 342.8163],\n",
       "        [328.7589, 318.1297, 305.8095, 323.9302, 330.2426, 331.1606],\n",
       "        [317.0359, 305.8095, 295.2486, 312.1302, 318.6624, 318.7883],\n",
       "        [335.7286, 323.9302, 312.1302, 331.0283, 337.4196, 337.3598],\n",
       "        [342.9851, 330.2426, 318.6624, 337.4196, 344.6919, 344.5293],\n",
       "        [342.8163, 331.1606, 318.7883, 337.3598, 344.5293, 345.8322]])"
      ]
     },
     "execution_count": 8,
     "metadata": {},
     "output_type": "execute_result"
    }
   ],
   "source": [
    "# 6. Умножьте тензор матрично на себя, чтобы результат был размерности 6x6\n",
    "# Подсказка: .dot может не подойти\n",
    "new_mtrx = torch.matmul(x_plus_y, x_plus_y.T)\n",
    "new_mtrx"
   ]
  },
  {
   "cell_type": "code",
   "execution_count": 9,
   "metadata": {},
   "outputs": [
    {
     "data": {
      "text/plain": [
       "torch.Size([6, 6])"
      ]
     },
     "execution_count": 9,
     "metadata": {},
     "output_type": "execute_result"
    }
   ],
   "source": [
    "new_mtrx.shape"
   ]
  },
  {
   "cell_type": "code",
   "execution_count": 10,
   "metadata": {
    "id": "u3V6CsNkofVj"
   },
   "outputs": [],
   "source": [
    "# 7. Посчитайте производную функции y = x**3 + z - 75t в точке (1, 0.5, 2)\n",
    "coord_01 = torch.FloatTensor((1, 0.5, 2))\n",
    "ort_3 = torch.ones(size=(3,), requires_grad=True)\n"
   ]
  },
  {
   "cell_type": "code",
   "execution_count": 11,
   "metadata": {},
   "outputs": [
    {
     "data": {
      "text/plain": [
       "tensor([-73., -73., -73.], grad_fn=<SubBackward0>)"
      ]
     },
     "execution_count": 11,
     "metadata": {},
     "output_type": "execute_result"
    }
   ],
   "source": [
    "func_02 = ort_3**3 + ort_3 - 75*ort_3\n",
    "func_02"
   ]
  },
  {
   "cell_type": "code",
   "execution_count": 12,
   "metadata": {},
   "outputs": [],
   "source": [
    "deriv_func_01 = func_02.backward(ort_3)"
   ]
  },
  {
   "cell_type": "code",
   "execution_count": 13,
   "metadata": {},
   "outputs": [
    {
     "name": "stdout",
     "output_type": "stream",
     "text": [
      "None\n"
     ]
    }
   ],
   "source": [
    "print(deriv_func_01)"
   ]
  },
  {
   "cell_type": "code",
   "execution_count": 14,
   "metadata": {
    "id": "FzH6QkyxofVm"
   },
   "outputs": [
    {
     "data": {
      "text/plain": [
       "tensor([[1., 1., 1., 1., 1., 1.],\n",
       "        [1., 1., 1., 1., 1., 1.],\n",
       "        [1., 1., 1., 1., 1., 1.],\n",
       "        [1., 1., 1., 1., 1., 1.],\n",
       "        [1., 1., 1., 1., 1., 1.]])"
      ]
     },
     "execution_count": 14,
     "metadata": {},
     "output_type": "execute_result"
    }
   ],
   "source": [
    "# 8. Создайте единичный тензор размера 5x6\n",
    "ones = torch.ones(size=(5,6))\n",
    "ones"
   ]
  },
  {
   "cell_type": "code",
   "execution_count": 15,
   "metadata": {
    "id": "z49ttvWPofVo"
   },
   "outputs": [
    {
     "data": {
      "text/plain": [
       "array([[1., 1., 1., 1., 1., 1.],\n",
       "       [1., 1., 1., 1., 1., 1.],\n",
       "       [1., 1., 1., 1., 1., 1.],\n",
       "       [1., 1., 1., 1., 1., 1.],\n",
       "       [1., 1., 1., 1., 1., 1.]], dtype=float32)"
      ]
     },
     "execution_count": 15,
     "metadata": {},
     "output_type": "execute_result"
    }
   ],
   "source": [
    "# 9. Переведите его в формат numpy\n",
    "np_arr = ones.numpy()\n",
    "np_arr"
   ]
  },
  {
   "cell_type": "code",
   "execution_count": null,
   "metadata": {},
   "outputs": [],
   "source": []
  }
 ],
 "metadata": {
  "colab": {
   "provenance": []
  },
  "kernelspec": {
   "display_name": "Python 3 (ipykernel)",
   "language": "python",
   "name": "python3"
  },
  "language_info": {
   "codemirror_mode": {
    "name": "ipython",
    "version": 3
   },
   "file_extension": ".py",
   "mimetype": "text/x-python",
   "name": "python",
   "nbconvert_exporter": "python",
   "pygments_lexer": "ipython3",
   "version": "3.9.13"
  }
 },
 "nbformat": 4,
 "nbformat_minor": 1
}
