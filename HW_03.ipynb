{
 "cells": [
  {
   "cell_type": "markdown",
   "metadata": {
    "id": "8aP3VqmLJ8jK"
   },
   "source": [
    "# Dataset, Dataloader, BatchNorm, Dropout, Оптимизация\n",
    "\n",
    "Сегодня у нас довольно объемная программа, она призвана закончить большую часть про базовую функциональность Pytorch, дальше мы двинемся к сверточным сетям и будем решать более прикладные задачи"
   ]
  },
  {
   "cell_type": "markdown",
   "metadata": {
    "id": "_1kh-e0oXz7V"
   },
   "source": [
    "# Домашнее задание\n",
    "\n",
    "Будем практиковаться на датасете недвижимости (sklearn.datasets.fetch_california_housing)\n",
    "\n",
    "Ваша задача:\n",
    "1. Создать Dataset для загрузки данных\n",
    "2. Обернуть его в Dataloader\n",
    "3. Написать архитектуру сети, которая предсказывает стоимость недвижимости. Сеть должна включать BatchNorm слои и Dropout (или НЕ включать, но нужно обосновать)\n",
    "4. Сравните сходимость Adam, RMSProp и SGD, сделайте вывод по качеству работы модели\n",
    "\n",
    "train-test разделение нужно сделать с помощью sklearn random_state=13, test_size = 0.25"
   ]
  },
  {
   "cell_type": "markdown",
   "metadata": {
    "id": "nfi6haSYP6FC"
   },
   "source": [
    "## Dataset"
   ]
  },
  {
   "cell_type": "code",
   "execution_count": 1,
   "metadata": {
    "id": "kQofXN2GJ8je"
   },
   "outputs": [],
   "source": [
    "import math\n",
    "import torch\n",
    "import numpy as np\n",
    "\n",
    "# from torchvision import transforms, datasets\n",
    "from sklearn.preprocessing import MinMaxScaler"
   ]
  },
  {
   "cell_type": "code",
   "execution_count": 2,
   "metadata": {},
   "outputs": [],
   "source": [
    "from sklearn.datasets import fetch_california_housing\n",
    "from sklearn.model_selection import train_test_split\n"
   ]
  },
  {
   "cell_type": "code",
   "execution_count": 3,
   "metadata": {},
   "outputs": [],
   "source": [
    "from torchmetrics import MeanAbsolutePercentageError"
   ]
  },
  {
   "cell_type": "code",
   "execution_count": 4,
   "metadata": {
    "id": "at8qRIrLJ8kD"
   },
   "outputs": [],
   "source": [
    "import torch.nn.functional as F\n",
    "import torch.nn as nn"
   ]
  },
  {
   "cell_type": "code",
   "execution_count": 5,
   "metadata": {
    "id": "03Grc9WDJ8kF"
   },
   "outputs": [],
   "source": [
    "class Perceptron(nn.Module):\n",
    "    def __init__(self, input_dim, output_dim, activation=\"relu\"):\n",
    "        super().__init__()\n",
    "        self.fc = nn.Linear(input_dim, output_dim)\n",
    "        self.activation = activation\n",
    "        \n",
    "    def forward(self, x):\n",
    "        x = self.fc(x)\n",
    "        if self.activation == \"tanh\":\n",
    "            return F.tanh(x)\n",
    "        if self.activation == \"relu\":\n",
    "            return F.relu(x)\n",
    "        raise RuntimeError\n",
    "        \n",
    "\n",
    "class FeedForward(nn.Module):\n",
    "    def __init__(self, input_dim, hidden_dim):\n",
    "        super().__init__()\n",
    "        self.fc1 = Perceptron(input_dim, hidden_dim)\n",
    "        self.bn = nn.BatchNorm1d(hidden_dim)\n",
    "        self.dp = nn.Dropout(0.25)\n",
    "        self.fc2 = Perceptron(hidden_dim, 1, \"relu\")\n",
    "        \n",
    "    def forward(self, x):\n",
    "        x = self.fc1(x)\n",
    "        x = self.dp(x)\n",
    "        x = self.bn(x)\n",
    "        x = self.fc2(x)\n",
    "        return x"
   ]
  },
  {
   "cell_type": "code",
   "execution_count": 6,
   "metadata": {},
   "outputs": [],
   "source": [
    "class CalifHousingDataset(torch.utils.data.Dataset):\n",
    "   \n",
    "    def __init__(self, init_features, init_target, transform=None):\n",
    "        self._features_data = torch.tensor(init_features, dtype=torch.float32)\n",
    "        self._target_data = torch.tensor(init_target, dtype=torch.float32)\n",
    "        self.transform = transform\n",
    "\n",
    "    def __len__(self):\n",
    "        return len(self._features_data)\n",
    "\n",
    "    def __getitem__(self, idx):\n",
    "        item_features = self._features_data[idx]\n",
    "        item_target = self._target_data[idx]\n",
    "      \n",
    "        return item_features, item_target\n",
    "    \n",
    "#trans_actions = transforms.Compose([transforms.ToTensor()])\n"
   ]
  },
  {
   "cell_type": "code",
   "execution_count": 7,
   "metadata": {},
   "outputs": [],
   "source": [
    "housing_data = fetch_california_housing()"
   ]
  },
  {
   "cell_type": "code",
   "execution_count": 8,
   "metadata": {},
   "outputs": [],
   "source": [
    "features, target = housing_data['data'], housing_data['target']"
   ]
  },
  {
   "cell_type": "code",
   "execution_count": 9,
   "metadata": {},
   "outputs": [],
   "source": [
    "scaler_f = MinMaxScaler()"
   ]
  },
  {
   "cell_type": "code",
   "execution_count": 10,
   "metadata": {},
   "outputs": [],
   "source": [
    "scaled_features = scaler_f.fit_transform(features)"
   ]
  },
  {
   "cell_type": "code",
   "execution_count": 11,
   "metadata": {},
   "outputs": [],
   "source": [
    "x_train, x_test, y_train, y_test = train_test_split(scaled_features, target, test_size=0.25, random_state=13)"
   ]
  },
  {
   "cell_type": "code",
   "execution_count": 12,
   "metadata": {},
   "outputs": [
    {
     "data": {
      "text/plain": [
       "(15480, 8)"
      ]
     },
     "execution_count": 12,
     "metadata": {},
     "output_type": "execute_result"
    }
   ],
   "source": [
    "x_train.shape"
   ]
  },
  {
   "cell_type": "code",
   "execution_count": 13,
   "metadata": {},
   "outputs": [],
   "source": [
    "dataset_train = CalifHousingDataset(x_train, y_train)"
   ]
  },
  {
   "cell_type": "code",
   "execution_count": 14,
   "metadata": {},
   "outputs": [
    {
     "data": {
      "text/plain": [
       "(tensor([0.2081, 0.6863, 0.0262, 0.0226, 0.0379, 0.0011, 0.1775, 0.6096]),\n",
       " tensor(2.6800))"
      ]
     },
     "execution_count": 14,
     "metadata": {},
     "output_type": "execute_result"
    }
   ],
   "source": [
    "dataset_train[0]"
   ]
  },
  {
   "cell_type": "code",
   "execution_count": 15,
   "metadata": {},
   "outputs": [],
   "source": [
    "dataset_test = CalifHousingDataset(x_test, y_test)"
   ]
  },
  {
   "cell_type": "code",
   "execution_count": 16,
   "metadata": {},
   "outputs": [],
   "source": [
    "train_loader = torch.utils.data.DataLoader(dataset_train,\n",
    "                          batch_size=128, drop_last=True,\n",
    "                          shuffle=True)"
   ]
  },
  {
   "cell_type": "code",
   "execution_count": 17,
   "metadata": {},
   "outputs": [],
   "source": [
    "test_loader = torch.utils.data.DataLoader(dataset_test,\n",
    "                          batch_size=1,\n",
    "                          shuffle=False)"
   ]
  },
  {
   "cell_type": "code",
   "execution_count": 18,
   "metadata": {
    "id": "FCnKJyDvJ8kI"
   },
   "outputs": [],
   "source": [
    "net = FeedForward(8, 20)\n",
    "\n",
    "optimizer = torch.optim.Adam(net.parameters(), lr=0.01)\n",
    "criterion = nn.MSELoss()"
   ]
  },
  {
   "cell_type": "code",
   "execution_count": 19,
   "metadata": {},
   "outputs": [],
   "source": [
    "mean_abs_percentage_error = MeanAbsolutePercentageError()\n"
   ]
  },
  {
   "cell_type": "code",
   "execution_count": 21,
   "metadata": {
    "colab": {
     "base_uri": "https://localhost:8080/"
    },
    "id": "rTKeMl5KJ8kK",
    "outputId": "3c7bde44-6ec9-463d-9fe9-3154db7a50ee"
   },
   "outputs": [
    {
     "name": "stdout",
     "output_type": "stream",
     "text": [
      "Epoch [1/10]. Step [1/120]. Loss: 0.008. MAPE: 0.004. . Test acc: 1.079Test MAPE: 0.587. \n",
      " Epoch [1/10]. Step [51/120]. Loss: 0.512. MAPE: 0.021. . Test acc: 1.079Test MAPE: 0.619. \n",
      " Epoch [1/10]. Step [101/120]. Loss: 0.515. MAPE: 0.022. . Test acc: 1.543Test MAPE: 0.603. \n",
      " Epoch [2/10]. Step [1/120]. Loss: 0.012. MAPE: 0.005. . Test acc: 1.529Test MAPE: 0.612. \n",
      " Epoch [2/10]. Step [51/120]. Loss: 0.509. MAPE: 0.023. . Test acc: 1.413Test MAPE: 0.642. \n",
      " Epoch [2/10]. Step [101/120]. Loss: 0.515. MAPE: 0.022. . Test acc: 1.140Test MAPE: 0.627. \n",
      " Epoch [3/10]. Step [1/120]. Loss: 0.011. MAPE: 0.005. . Test acc: 1.354Test MAPE: 0.591. \n",
      " Epoch [3/10]. Step [51/120]. Loss: 0.521. MAPE: 0.022. . Test acc: 1.293Test MAPE: 0.605. \n",
      " Epoch [3/10]. Step [101/120]. Loss: 0.529. MAPE: 0.022. . Test acc: 1.140Test MAPE: 0.629. \n",
      " Epoch [4/10]. Step [1/120]. Loss: 0.010. MAPE: 0.005. . Test acc: 1.299Test MAPE: 0.660. \n",
      " Epoch [4/10]. Step [51/120]. Loss: 0.541. MAPE: 0.023. . Test acc: 1.168Test MAPE: 0.659. \n",
      " Epoch [4/10]. Step [101/120]. Loss: 0.514. MAPE: 0.022. . Test acc: 1.612Test MAPE: 0.607. \n",
      " Epoch [5/10]. Step [1/120]. Loss: 0.011. MAPE: 0.006. . Test acc: 1.378Test MAPE: 0.657. \n",
      " Epoch [5/10]. Step [51/120]. Loss: 0.522. MAPE: 0.022. . Test acc: 1.482Test MAPE: 0.635. \n",
      " Epoch [5/10]. Step [101/120]. Loss: 0.504. MAPE: 0.021. . Test acc: 1.338Test MAPE: 0.622. \n",
      " Epoch [6/10]. Step [1/120]. Loss: 0.013. MAPE: 0.005. . Test acc: 1.708Test MAPE: 0.615. \n",
      " Epoch [6/10]. Step [51/120]. Loss: 0.515. MAPE: 0.022. . Test acc: 1.372Test MAPE: 0.645. \n",
      " Epoch [6/10]. Step [101/120]. Loss: 0.526. MAPE: 0.022. . Test acc: 1.243Test MAPE: 0.637. \n",
      " Epoch [7/10]. Step [1/120]. Loss: 0.012. MAPE: 0.005. . Test acc: 1.475Test MAPE: 0.666. \n",
      " Epoch [7/10]. Step [51/120]. Loss: 0.536. MAPE: 0.023. . Test acc: 1.189Test MAPE: 0.648. \n",
      " Epoch [7/10]. Step [101/120]. Loss: 0.492. MAPE: 0.021. . Test acc: 1.594Test MAPE: 0.662. \n",
      " Epoch [8/10]. Step [1/120]. Loss: 0.012. MAPE: 0.005. . Test acc: 1.537Test MAPE: 0.620. \n",
      " Epoch [8/10]. Step [51/120]. Loss: 0.547. MAPE: 0.023. . Test acc: 1.118Test MAPE: 0.616. \n",
      " Epoch [8/10]. Step [101/120]. Loss: 0.531. MAPE: 0.023. . Test acc: 1.321Test MAPE: 0.641. \n",
      " Epoch [9/10]. Step [1/120]. Loss: 0.012. MAPE: 0.005. . Test acc: 1.497Test MAPE: 0.662. \n",
      " Epoch [9/10]. Step [51/120]. Loss: 0.536. MAPE: 0.024. . Test acc: 1.823Test MAPE: 0.615. \n",
      " Epoch [9/10]. Step [101/120]. Loss: 0.525. MAPE: 0.021. . Test acc: 1.182Test MAPE: 0.618. \n",
      " Epoch [10/10]. Step [1/120]. Loss: 0.010. MAPE: 0.005. . Test acc: 1.245Test MAPE: 0.617. \n",
      " Epoch [10/10]. Step [51/120]. Loss: 0.532. MAPE: 0.022. . Test acc: 1.545Test MAPE: 0.595. \n",
      " Epoch [10/10]. Step [101/120]. Loss: 0.514. MAPE: 0.021. . Test acc: 1.093Test MAPE: 0.555. \n",
      " Training is finished!\n"
     ]
    }
   ],
   "source": [
    "num_epochs = 10\n",
    "\n",
    "for epoch in range(num_epochs):  \n",
    "    running_loss, running_items, running_mse, running_mape = 0.0, 0.0, 0.0, 0.0\n",
    "    for i, data in enumerate(train_loader):\n",
    "        inputs, targets = data[0], data[1]\n",
    "        inputs = inputs.to(torch.float32)\n",
    "\n",
    "        # обнуляем градиент\n",
    "        optimizer.zero_grad()\n",
    "\n",
    "        outputs = net(inputs)\n",
    "        loss = criterion(outputs, targets)\n",
    "        loss.backward()\n",
    "        optimizer.step()\n",
    "\n",
    "        # выводим статистику о процессе обучения\n",
    "        running_loss += loss.item()\n",
    "        running_items += len(targets)\n",
    "        running_mse += (running_loss/running_items)\n",
    "        running_mape += mean_abs_percentage_error(outputs.view(128), targets) / running_items\n",
    "        \n",
    "        # выводим статистику о процессе обучения\n",
    "        if i % 50 == 0:    # печатаем каждые 50 mini-batches\n",
    "            net.eval()\n",
    "            \n",
    "            print(f'Epoch [{epoch + 1}/{num_epochs}]. ' \\\n",
    "                  f'Step [{i + 1}/{len(train_loader)}]. ' \\\n",
    "                  f'Loss: {running_mse:.3f}. ' \\\n",
    "                  f'MAPE: {running_mape:.3f}. ' , end='. ')\n",
    "              \n",
    "            running_loss, running_items, running_mse, running_mape = 0.0, 0.0, 0.0, 0.0\n",
    "\n",
    "            test_running_right, test_running_total, test_running_mape = 0.0, 0.0, 0.0\n",
    "            for i, data in enumerate(test_loader):\n",
    "                            \n",
    "                test_outputs = net(data[0].to(torch.float32))\n",
    "                test_running_total += len(data[1])\n",
    "                test_running_right += loss.item()\n",
    "                test_running_mape += mean_abs_percentage_error(test_outputs.view(1), data[1])\n",
    "            \n",
    "            print(f'Test acc: {test_running_right / test_running_total:.3f}. ' \\\n",
    "                  f'Test MAPE: {test_running_mape  / test_running_total:.3f}. ' , end='\\n ')\n",
    "            net.train()\n",
    "        \n",
    "print('Training is finished!')"
   ]
  },
  {
   "cell_type": "code",
   "execution_count": null,
   "metadata": {},
   "outputs": [],
   "source": []
  },
  {
   "cell_type": "code",
   "execution_count": null,
   "metadata": {},
   "outputs": [],
   "source": []
  }
 ],
 "metadata": {
  "colab": {
   "provenance": [],
   "toc_visible": true
  },
  "kernelspec": {
   "display_name": "Python 3 (ipykernel)",
   "language": "python",
   "name": "python3"
  },
  "language_info": {
   "codemirror_mode": {
    "name": "ipython",
    "version": 3
   },
   "file_extension": ".py",
   "mimetype": "text/x-python",
   "name": "python",
   "nbconvert_exporter": "python",
   "pygments_lexer": "ipython3",
   "version": "3.9.13"
  },
  "widgets": {
   "application/vnd.jupyter.widget-state+json": {
    "0677b9d4046f43c4b4779a8ca3ce61af": {
     "model_module": "@jupyter-widgets/controls",
     "model_module_version": "1.5.0",
     "model_name": "HTMLModel",
     "state": {
      "_dom_classes": [],
      "_model_module": "@jupyter-widgets/controls",
      "_model_module_version": "1.5.0",
      "_model_name": "HTMLModel",
      "_view_count": null,
      "_view_module": "@jupyter-widgets/controls",
      "_view_module_version": "1.5.0",
      "_view_name": "HTMLView",
      "description": "",
      "description_tooltip": null,
      "layout": "IPY_MODEL_2dc47c7f54b14a9e8b96ed8b4807af28",
      "placeholder": "​",
      "style": "IPY_MODEL_62627f996f4345c1878f69bd7ecffe31",
      "value": "100%"
     }
    },
    "2dc47c7f54b14a9e8b96ed8b4807af28": {
     "model_module": "@jupyter-widgets/base",
     "model_module_version": "1.2.0",
     "model_name": "LayoutModel",
     "state": {
      "_model_module": "@jupyter-widgets/base",
      "_model_module_version": "1.2.0",
      "_model_name": "LayoutModel",
      "_view_count": null,
      "_view_module": "@jupyter-widgets/base",
      "_view_module_version": "1.2.0",
      "_view_name": "LayoutView",
      "align_content": null,
      "align_items": null,
      "align_self": null,
      "border": null,
      "bottom": null,
      "display": null,
      "flex": null,
      "flex_flow": null,
      "grid_area": null,
      "grid_auto_columns": null,
      "grid_auto_flow": null,
      "grid_auto_rows": null,
      "grid_column": null,
      "grid_gap": null,
      "grid_row": null,
      "grid_template_areas": null,
      "grid_template_columns": null,
      "grid_template_rows": null,
      "height": null,
      "justify_content": null,
      "justify_items": null,
      "left": null,
      "margin": null,
      "max_height": null,
      "max_width": null,
      "min_height": null,
      "min_width": null,
      "object_fit": null,
      "object_position": null,
      "order": null,
      "overflow": null,
      "overflow_x": null,
      "overflow_y": null,
      "padding": null,
      "right": null,
      "top": null,
      "visibility": null,
      "width": null
     }
    },
    "3d860df11fb242af89f948c8b73094c1": {
     "model_module": "@jupyter-widgets/controls",
     "model_module_version": "1.5.0",
     "model_name": "DescriptionStyleModel",
     "state": {
      "_model_module": "@jupyter-widgets/controls",
      "_model_module_version": "1.5.0",
      "_model_name": "DescriptionStyleModel",
      "_view_count": null,
      "_view_module": "@jupyter-widgets/base",
      "_view_module_version": "1.2.0",
      "_view_name": "StyleView",
      "description_width": ""
     }
    },
    "40da377e052e4c29b834ec504d2c89be": {
     "model_module": "@jupyter-widgets/base",
     "model_module_version": "1.2.0",
     "model_name": "LayoutModel",
     "state": {
      "_model_module": "@jupyter-widgets/base",
      "_model_module_version": "1.2.0",
      "_model_name": "LayoutModel",
      "_view_count": null,
      "_view_module": "@jupyter-widgets/base",
      "_view_module_version": "1.2.0",
      "_view_name": "LayoutView",
      "align_content": null,
      "align_items": null,
      "align_self": null,
      "border": null,
      "bottom": null,
      "display": null,
      "flex": null,
      "flex_flow": null,
      "grid_area": null,
      "grid_auto_columns": null,
      "grid_auto_flow": null,
      "grid_auto_rows": null,
      "grid_column": null,
      "grid_gap": null,
      "grid_row": null,
      "grid_template_areas": null,
      "grid_template_columns": null,
      "grid_template_rows": null,
      "height": null,
      "justify_content": null,
      "justify_items": null,
      "left": null,
      "margin": null,
      "max_height": null,
      "max_width": null,
      "min_height": null,
      "min_width": null,
      "object_fit": null,
      "object_position": null,
      "order": null,
      "overflow": null,
      "overflow_x": null,
      "overflow_y": null,
      "padding": null,
      "right": null,
      "top": null,
      "visibility": null,
      "width": null
     }
    },
    "49543ca326be4886a21f18e53f99b04e": {
     "model_module": "@jupyter-widgets/controls",
     "model_module_version": "1.5.0",
     "model_name": "ProgressStyleModel",
     "state": {
      "_model_module": "@jupyter-widgets/controls",
      "_model_module_version": "1.5.0",
      "_model_name": "ProgressStyleModel",
      "_view_count": null,
      "_view_module": "@jupyter-widgets/base",
      "_view_module_version": "1.2.0",
      "_view_name": "StyleView",
      "bar_color": null,
      "description_width": ""
     }
    },
    "58c602482f6c4eeb9b6f12c25c5b3768": {
     "model_module": "@jupyter-widgets/base",
     "model_module_version": "1.2.0",
     "model_name": "LayoutModel",
     "state": {
      "_model_module": "@jupyter-widgets/base",
      "_model_module_version": "1.2.0",
      "_model_name": "LayoutModel",
      "_view_count": null,
      "_view_module": "@jupyter-widgets/base",
      "_view_module_version": "1.2.0",
      "_view_name": "LayoutView",
      "align_content": null,
      "align_items": null,
      "align_self": null,
      "border": null,
      "bottom": null,
      "display": null,
      "flex": null,
      "flex_flow": null,
      "grid_area": null,
      "grid_auto_columns": null,
      "grid_auto_flow": null,
      "grid_auto_rows": null,
      "grid_column": null,
      "grid_gap": null,
      "grid_row": null,
      "grid_template_areas": null,
      "grid_template_columns": null,
      "grid_template_rows": null,
      "height": null,
      "justify_content": null,
      "justify_items": null,
      "left": null,
      "margin": null,
      "max_height": null,
      "max_width": null,
      "min_height": null,
      "min_width": null,
      "object_fit": null,
      "object_position": null,
      "order": null,
      "overflow": null,
      "overflow_x": null,
      "overflow_y": null,
      "padding": null,
      "right": null,
      "top": null,
      "visibility": null,
      "width": null
     }
    },
    "62627f996f4345c1878f69bd7ecffe31": {
     "model_module": "@jupyter-widgets/controls",
     "model_module_version": "1.5.0",
     "model_name": "DescriptionStyleModel",
     "state": {
      "_model_module": "@jupyter-widgets/controls",
      "_model_module_version": "1.5.0",
      "_model_name": "DescriptionStyleModel",
      "_view_count": null,
      "_view_module": "@jupyter-widgets/base",
      "_view_module_version": "1.2.0",
      "_view_name": "StyleView",
      "description_width": ""
     }
    },
    "8e94ba12b9af42ce8ebddd051b536104": {
     "model_module": "@jupyter-widgets/controls",
     "model_module_version": "1.5.0",
     "model_name": "FloatProgressModel",
     "state": {
      "_dom_classes": [],
      "_model_module": "@jupyter-widgets/controls",
      "_model_module_version": "1.5.0",
      "_model_name": "FloatProgressModel",
      "_view_count": null,
      "_view_module": "@jupyter-widgets/controls",
      "_view_module_version": "1.5.0",
      "_view_name": "ProgressView",
      "bar_style": "success",
      "description": "",
      "description_tooltip": null,
      "layout": "IPY_MODEL_40da377e052e4c29b834ec504d2c89be",
      "max": 170498071,
      "min": 0,
      "orientation": "horizontal",
      "style": "IPY_MODEL_49543ca326be4886a21f18e53f99b04e",
      "value": 170498071
     }
    },
    "a2dcd41aab40423eacba3fc244ba830e": {
     "model_module": "@jupyter-widgets/base",
     "model_module_version": "1.2.0",
     "model_name": "LayoutModel",
     "state": {
      "_model_module": "@jupyter-widgets/base",
      "_model_module_version": "1.2.0",
      "_model_name": "LayoutModel",
      "_view_count": null,
      "_view_module": "@jupyter-widgets/base",
      "_view_module_version": "1.2.0",
      "_view_name": "LayoutView",
      "align_content": null,
      "align_items": null,
      "align_self": null,
      "border": null,
      "bottom": null,
      "display": null,
      "flex": null,
      "flex_flow": null,
      "grid_area": null,
      "grid_auto_columns": null,
      "grid_auto_flow": null,
      "grid_auto_rows": null,
      "grid_column": null,
      "grid_gap": null,
      "grid_row": null,
      "grid_template_areas": null,
      "grid_template_columns": null,
      "grid_template_rows": null,
      "height": null,
      "justify_content": null,
      "justify_items": null,
      "left": null,
      "margin": null,
      "max_height": null,
      "max_width": null,
      "min_height": null,
      "min_width": null,
      "object_fit": null,
      "object_position": null,
      "order": null,
      "overflow": null,
      "overflow_x": null,
      "overflow_y": null,
      "padding": null,
      "right": null,
      "top": null,
      "visibility": null,
      "width": null
     }
    },
    "aaed763bfac14f6d896c71727f9d0c70": {
     "model_module": "@jupyter-widgets/controls",
     "model_module_version": "1.5.0",
     "model_name": "HBoxModel",
     "state": {
      "_dom_classes": [],
      "_model_module": "@jupyter-widgets/controls",
      "_model_module_version": "1.5.0",
      "_model_name": "HBoxModel",
      "_view_count": null,
      "_view_module": "@jupyter-widgets/controls",
      "_view_module_version": "1.5.0",
      "_view_name": "HBoxView",
      "box_style": "",
      "children": [
       "IPY_MODEL_0677b9d4046f43c4b4779a8ca3ce61af",
       "IPY_MODEL_8e94ba12b9af42ce8ebddd051b536104",
       "IPY_MODEL_b5aaccf56a5447eeb17fae872bce342d"
      ],
      "layout": "IPY_MODEL_a2dcd41aab40423eacba3fc244ba830e"
     }
    },
    "b5aaccf56a5447eeb17fae872bce342d": {
     "model_module": "@jupyter-widgets/controls",
     "model_module_version": "1.5.0",
     "model_name": "HTMLModel",
     "state": {
      "_dom_classes": [],
      "_model_module": "@jupyter-widgets/controls",
      "_model_module_version": "1.5.0",
      "_model_name": "HTMLModel",
      "_view_count": null,
      "_view_module": "@jupyter-widgets/controls",
      "_view_module_version": "1.5.0",
      "_view_name": "HTMLView",
      "description": "",
      "description_tooltip": null,
      "layout": "IPY_MODEL_58c602482f6c4eeb9b6f12c25c5b3768",
      "placeholder": "​",
      "style": "IPY_MODEL_3d860df11fb242af89f948c8b73094c1",
      "value": " 170498071/170498071 [00:01&lt;00:00, 97215810.21it/s]"
     }
    }
   }
  }
 },
 "nbformat": 4,
 "nbformat_minor": 1
}
